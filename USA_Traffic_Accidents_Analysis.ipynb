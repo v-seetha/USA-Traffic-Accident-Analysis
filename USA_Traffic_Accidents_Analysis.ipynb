{
  "cells": [
    {
      "cell_type": "code",
      "execution_count": 23,
      "metadata": {
        "execution": {
          "iopub.execute_input": "2025-02-04T05:32:04.47624Z",
          "iopub.status.busy": "2025-02-04T05:32:04.475917Z",
          "iopub.status.idle": "2025-02-04T05:32:04.905524Z",
          "shell.execute_reply": "2025-02-04T05:32:04.904361Z",
          "shell.execute_reply.started": "2025-02-04T05:32:04.476217Z"
        },
        "id": "Wu7xF5D02Vem"
      },
      "outputs": [],
      "source": [
        "import numpy as np # linear algebra\n",
        "import pandas as pd # data processing, CSV file I/O (e.g. pd.read_csv)\n",
        "import os\n",
        "for dirname, _, filenames in os.walk('/kaggle/input'):\n",
        "    for filename in filenames:\n",
        "        print(os.path.join(dirname, filename))"
      ]
    },
    {
      "cell_type": "markdown",
      "metadata": {
        "id": "aMAs05_62YK9"
      },
      "source": [
        "## Importing Libraries"
      ]
    },
    {
      "cell_type": "code",
      "execution_count": 24,
      "metadata": {
        "execution": {
          "iopub.execute_input": "2025-02-04T05:32:04.907058Z",
          "iopub.status.busy": "2025-02-04T05:32:04.906597Z",
          "iopub.status.idle": "2025-02-04T05:32:06.349334Z",
          "shell.execute_reply": "2025-02-04T05:32:06.348052Z",
          "shell.execute_reply.started": "2025-02-04T05:32:04.907027Z"
        },
        "id": "fkCXnYvR2gCc"
      },
      "outputs": [],
      "source": [
        "import pandas as pd\n",
        "import numpy as np\n",
        "import matplotlib.pyplot as plt\n",
        "import seaborn as sns\n",
        "from datetime import datetime\n",
        "from IPython.display import FileLink"
      ]
    },
    {
      "cell_type": "markdown",
      "metadata": {
        "id": "0c0c3SdRvMgC"
      },
      "source": [
        "# Data Prepartion & Cleaning\n",
        "\n",
        "1. Load the file using pandas\n",
        "2. Look at some information about the data & columns\n",
        "3. Fix any missing or incorrrect values"
      ]
    },
    {
      "cell_type": "code",
      "source": [
        "from google.colab import drive\n",
        "drive.mount('/content/drive')"
      ],
      "metadata": {
        "colab": {
          "base_uri": "https://localhost:8080/"
        },
        "id": "oTaX7O26lXYi",
        "outputId": "6e9631eb-5944-4157-bfd0-df0a2b830464"
      },
      "execution_count": 25,
      "outputs": [
        {
          "output_type": "stream",
          "name": "stdout",
          "text": [
            "Drive already mounted at /content/drive; to attempt to forcibly remount, call drive.mount(\"/content/drive\", force_remount=True).\n"
          ]
        }
      ]
    },
    {
      "cell_type": "code",
      "source": [
        "data_filename = '/content/drive/MyDrive/usa-accidents/US_Accidents_March23.csv'"
      ],
      "metadata": {
        "id": "Ss-NDGq4lzhB"
      },
      "execution_count": 26,
      "outputs": []
    },
    {
      "cell_type": "code",
      "execution_count": 27,
      "metadata": {
        "execution": {
          "iopub.execute_input": "2025-02-04T05:32:06.358377Z",
          "iopub.status.busy": "2025-02-04T05:32:06.358004Z",
          "iopub.status.idle": "2025-02-04T05:34:19.629174Z",
          "shell.execute_reply": "2025-02-04T05:34:19.628074Z",
          "shell.execute_reply.started": "2025-02-04T05:32:06.358338Z"
        },
        "id": "xk2NQTDevMgE"
      },
      "outputs": [],
      "source": [
        "df = pd.read_csv(data_filename)"
      ]
    },
    {
      "cell_type": "code",
      "execution_count": 28,
      "metadata": {
        "execution": {
          "iopub.execute_input": "2025-02-04T05:34:19.630638Z",
          "iopub.status.busy": "2025-02-04T05:34:19.630355Z",
          "iopub.status.idle": "2025-02-04T05:34:19.680663Z",
          "shell.execute_reply": "2025-02-04T05:34:19.679569Z",
          "shell.execute_reply.started": "2025-02-04T05:34:19.630615Z"
        },
        "id": "HCFjEly9vMgF",
        "outputId": "39f9b56a-396a-43dc-b614-1e51721d93a7",
        "colab": {
          "base_uri": "https://localhost:8080/",
          "height": 429
        }
      },
      "outputs": [
        {
          "output_type": "execute_result",
          "data": {
            "text/plain": [
              "    ID   Source  Severity           Start_Time             End_Time  \\\n",
              "0  A-1  Source2         3  2016-02-08 05:46:00  2016-02-08 11:00:00   \n",
              "1  A-2  Source2         2  2016-02-08 06:07:59  2016-02-08 06:37:59   \n",
              "2  A-3  Source2         2  2016-02-08 06:49:27  2016-02-08 07:19:27   \n",
              "3  A-4  Source2         3  2016-02-08 07:23:34  2016-02-08 07:53:34   \n",
              "4  A-5  Source2         2  2016-02-08 07:39:07  2016-02-08 08:09:07   \n",
              "\n",
              "   Start_Lat  Start_Lng  End_Lat  End_Lng  Distance(mi)  ... Roundabout  \\\n",
              "0  39.865147 -84.058723      NaN      NaN          0.01  ...      False   \n",
              "1  39.928059 -82.831184      NaN      NaN          0.01  ...      False   \n",
              "2  39.063148 -84.032608      NaN      NaN          0.01  ...      False   \n",
              "3  39.747753 -84.205582      NaN      NaN          0.01  ...      False   \n",
              "4  39.627781 -84.188354      NaN      NaN          0.01  ...      False   \n",
              "\n",
              "  Station   Stop Traffic_Calming Traffic_Signal Turning_Loop Sunrise_Sunset  \\\n",
              "0   False  False           False          False        False          Night   \n",
              "1   False  False           False          False        False          Night   \n",
              "2   False  False           False           True        False          Night   \n",
              "3   False  False           False          False        False          Night   \n",
              "4   False  False           False           True        False            Day   \n",
              "\n",
              "  Civil_Twilight Nautical_Twilight Astronomical_Twilight  \n",
              "0          Night             Night                 Night  \n",
              "1          Night             Night                   Day  \n",
              "2          Night               Day                   Day  \n",
              "3            Day               Day                   Day  \n",
              "4            Day               Day                   Day  \n",
              "\n",
              "[5 rows x 46 columns]"
            ],
            "text/html": [
              "\n",
              "  <div id=\"df-325ed51d-2209-41fe-931f-9f6f26a0b42d\" class=\"colab-df-container\">\n",
              "    <div>\n",
              "<style scoped>\n",
              "    .dataframe tbody tr th:only-of-type {\n",
              "        vertical-align: middle;\n",
              "    }\n",
              "\n",
              "    .dataframe tbody tr th {\n",
              "        vertical-align: top;\n",
              "    }\n",
              "\n",
              "    .dataframe thead th {\n",
              "        text-align: right;\n",
              "    }\n",
              "</style>\n",
              "<table border=\"1\" class=\"dataframe\">\n",
              "  <thead>\n",
              "    <tr style=\"text-align: right;\">\n",
              "      <th></th>\n",
              "      <th>ID</th>\n",
              "      <th>Source</th>\n",
              "      <th>Severity</th>\n",
              "      <th>Start_Time</th>\n",
              "      <th>End_Time</th>\n",
              "      <th>Start_Lat</th>\n",
              "      <th>Start_Lng</th>\n",
              "      <th>End_Lat</th>\n",
              "      <th>End_Lng</th>\n",
              "      <th>Distance(mi)</th>\n",
              "      <th>...</th>\n",
              "      <th>Roundabout</th>\n",
              "      <th>Station</th>\n",
              "      <th>Stop</th>\n",
              "      <th>Traffic_Calming</th>\n",
              "      <th>Traffic_Signal</th>\n",
              "      <th>Turning_Loop</th>\n",
              "      <th>Sunrise_Sunset</th>\n",
              "      <th>Civil_Twilight</th>\n",
              "      <th>Nautical_Twilight</th>\n",
              "      <th>Astronomical_Twilight</th>\n",
              "    </tr>\n",
              "  </thead>\n",
              "  <tbody>\n",
              "    <tr>\n",
              "      <th>0</th>\n",
              "      <td>A-1</td>\n",
              "      <td>Source2</td>\n",
              "      <td>3</td>\n",
              "      <td>2016-02-08 05:46:00</td>\n",
              "      <td>2016-02-08 11:00:00</td>\n",
              "      <td>39.865147</td>\n",
              "      <td>-84.058723</td>\n",
              "      <td>NaN</td>\n",
              "      <td>NaN</td>\n",
              "      <td>0.01</td>\n",
              "      <td>...</td>\n",
              "      <td>False</td>\n",
              "      <td>False</td>\n",
              "      <td>False</td>\n",
              "      <td>False</td>\n",
              "      <td>False</td>\n",
              "      <td>False</td>\n",
              "      <td>Night</td>\n",
              "      <td>Night</td>\n",
              "      <td>Night</td>\n",
              "      <td>Night</td>\n",
              "    </tr>\n",
              "    <tr>\n",
              "      <th>1</th>\n",
              "      <td>A-2</td>\n",
              "      <td>Source2</td>\n",
              "      <td>2</td>\n",
              "      <td>2016-02-08 06:07:59</td>\n",
              "      <td>2016-02-08 06:37:59</td>\n",
              "      <td>39.928059</td>\n",
              "      <td>-82.831184</td>\n",
              "      <td>NaN</td>\n",
              "      <td>NaN</td>\n",
              "      <td>0.01</td>\n",
              "      <td>...</td>\n",
              "      <td>False</td>\n",
              "      <td>False</td>\n",
              "      <td>False</td>\n",
              "      <td>False</td>\n",
              "      <td>False</td>\n",
              "      <td>False</td>\n",
              "      <td>Night</td>\n",
              "      <td>Night</td>\n",
              "      <td>Night</td>\n",
              "      <td>Day</td>\n",
              "    </tr>\n",
              "    <tr>\n",
              "      <th>2</th>\n",
              "      <td>A-3</td>\n",
              "      <td>Source2</td>\n",
              "      <td>2</td>\n",
              "      <td>2016-02-08 06:49:27</td>\n",
              "      <td>2016-02-08 07:19:27</td>\n",
              "      <td>39.063148</td>\n",
              "      <td>-84.032608</td>\n",
              "      <td>NaN</td>\n",
              "      <td>NaN</td>\n",
              "      <td>0.01</td>\n",
              "      <td>...</td>\n",
              "      <td>False</td>\n",
              "      <td>False</td>\n",
              "      <td>False</td>\n",
              "      <td>False</td>\n",
              "      <td>True</td>\n",
              "      <td>False</td>\n",
              "      <td>Night</td>\n",
              "      <td>Night</td>\n",
              "      <td>Day</td>\n",
              "      <td>Day</td>\n",
              "    </tr>\n",
              "    <tr>\n",
              "      <th>3</th>\n",
              "      <td>A-4</td>\n",
              "      <td>Source2</td>\n",
              "      <td>3</td>\n",
              "      <td>2016-02-08 07:23:34</td>\n",
              "      <td>2016-02-08 07:53:34</td>\n",
              "      <td>39.747753</td>\n",
              "      <td>-84.205582</td>\n",
              "      <td>NaN</td>\n",
              "      <td>NaN</td>\n",
              "      <td>0.01</td>\n",
              "      <td>...</td>\n",
              "      <td>False</td>\n",
              "      <td>False</td>\n",
              "      <td>False</td>\n",
              "      <td>False</td>\n",
              "      <td>False</td>\n",
              "      <td>False</td>\n",
              "      <td>Night</td>\n",
              "      <td>Day</td>\n",
              "      <td>Day</td>\n",
              "      <td>Day</td>\n",
              "    </tr>\n",
              "    <tr>\n",
              "      <th>4</th>\n",
              "      <td>A-5</td>\n",
              "      <td>Source2</td>\n",
              "      <td>2</td>\n",
              "      <td>2016-02-08 07:39:07</td>\n",
              "      <td>2016-02-08 08:09:07</td>\n",
              "      <td>39.627781</td>\n",
              "      <td>-84.188354</td>\n",
              "      <td>NaN</td>\n",
              "      <td>NaN</td>\n",
              "      <td>0.01</td>\n",
              "      <td>...</td>\n",
              "      <td>False</td>\n",
              "      <td>False</td>\n",
              "      <td>False</td>\n",
              "      <td>False</td>\n",
              "      <td>True</td>\n",
              "      <td>False</td>\n",
              "      <td>Day</td>\n",
              "      <td>Day</td>\n",
              "      <td>Day</td>\n",
              "      <td>Day</td>\n",
              "    </tr>\n",
              "  </tbody>\n",
              "</table>\n",
              "<p>5 rows × 46 columns</p>\n",
              "</div>\n",
              "    <div class=\"colab-df-buttons\">\n",
              "\n",
              "  <div class=\"colab-df-container\">\n",
              "    <button class=\"colab-df-convert\" onclick=\"convertToInteractive('df-325ed51d-2209-41fe-931f-9f6f26a0b42d')\"\n",
              "            title=\"Convert this dataframe to an interactive table.\"\n",
              "            style=\"display:none;\">\n",
              "\n",
              "  <svg xmlns=\"http://www.w3.org/2000/svg\" height=\"24px\" viewBox=\"0 -960 960 960\">\n",
              "    <path d=\"M120-120v-720h720v720H120Zm60-500h600v-160H180v160Zm220 220h160v-160H400v160Zm0 220h160v-160H400v160ZM180-400h160v-160H180v160Zm440 0h160v-160H620v160ZM180-180h160v-160H180v160Zm440 0h160v-160H620v160Z\"/>\n",
              "  </svg>\n",
              "    </button>\n",
              "\n",
              "  <style>\n",
              "    .colab-df-container {\n",
              "      display:flex;\n",
              "      gap: 12px;\n",
              "    }\n",
              "\n",
              "    .colab-df-convert {\n",
              "      background-color: #E8F0FE;\n",
              "      border: none;\n",
              "      border-radius: 50%;\n",
              "      cursor: pointer;\n",
              "      display: none;\n",
              "      fill: #1967D2;\n",
              "      height: 32px;\n",
              "      padding: 0 0 0 0;\n",
              "      width: 32px;\n",
              "    }\n",
              "\n",
              "    .colab-df-convert:hover {\n",
              "      background-color: #E2EBFA;\n",
              "      box-shadow: 0px 1px 2px rgba(60, 64, 67, 0.3), 0px 1px 3px 1px rgba(60, 64, 67, 0.15);\n",
              "      fill: #174EA6;\n",
              "    }\n",
              "\n",
              "    .colab-df-buttons div {\n",
              "      margin-bottom: 4px;\n",
              "    }\n",
              "\n",
              "    [theme=dark] .colab-df-convert {\n",
              "      background-color: #3B4455;\n",
              "      fill: #D2E3FC;\n",
              "    }\n",
              "\n",
              "    [theme=dark] .colab-df-convert:hover {\n",
              "      background-color: #434B5C;\n",
              "      box-shadow: 0px 1px 3px 1px rgba(0, 0, 0, 0.15);\n",
              "      filter: drop-shadow(0px 1px 2px rgba(0, 0, 0, 0.3));\n",
              "      fill: #FFFFFF;\n",
              "    }\n",
              "  </style>\n",
              "\n",
              "    <script>\n",
              "      const buttonEl =\n",
              "        document.querySelector('#df-325ed51d-2209-41fe-931f-9f6f26a0b42d button.colab-df-convert');\n",
              "      buttonEl.style.display =\n",
              "        google.colab.kernel.accessAllowed ? 'block' : 'none';\n",
              "\n",
              "      async function convertToInteractive(key) {\n",
              "        const element = document.querySelector('#df-325ed51d-2209-41fe-931f-9f6f26a0b42d');\n",
              "        const dataTable =\n",
              "          await google.colab.kernel.invokeFunction('convertToInteractive',\n",
              "                                                    [key], {});\n",
              "        if (!dataTable) return;\n",
              "\n",
              "        const docLinkHtml = 'Like what you see? Visit the ' +\n",
              "          '<a target=\"_blank\" href=https://colab.research.google.com/notebooks/data_table.ipynb>data table notebook</a>'\n",
              "          + ' to learn more about interactive tables.';\n",
              "        element.innerHTML = '';\n",
              "        dataTable['output_type'] = 'display_data';\n",
              "        await google.colab.output.renderOutput(dataTable, element);\n",
              "        const docLink = document.createElement('div');\n",
              "        docLink.innerHTML = docLinkHtml;\n",
              "        element.appendChild(docLink);\n",
              "      }\n",
              "    </script>\n",
              "  </div>\n",
              "\n",
              "\n",
              "<div id=\"df-9e053066-8144-4283-b7b0-4ece09ab313f\">\n",
              "  <button class=\"colab-df-quickchart\" onclick=\"quickchart('df-9e053066-8144-4283-b7b0-4ece09ab313f')\"\n",
              "            title=\"Suggest charts\"\n",
              "            style=\"display:none;\">\n",
              "\n",
              "<svg xmlns=\"http://www.w3.org/2000/svg\" height=\"24px\"viewBox=\"0 0 24 24\"\n",
              "     width=\"24px\">\n",
              "    <g>\n",
              "        <path d=\"M19 3H5c-1.1 0-2 .9-2 2v14c0 1.1.9 2 2 2h14c1.1 0 2-.9 2-2V5c0-1.1-.9-2-2-2zM9 17H7v-7h2v7zm4 0h-2V7h2v10zm4 0h-2v-4h2v4z\"/>\n",
              "    </g>\n",
              "</svg>\n",
              "  </button>\n",
              "\n",
              "<style>\n",
              "  .colab-df-quickchart {\n",
              "      --bg-color: #E8F0FE;\n",
              "      --fill-color: #1967D2;\n",
              "      --hover-bg-color: #E2EBFA;\n",
              "      --hover-fill-color: #174EA6;\n",
              "      --disabled-fill-color: #AAA;\n",
              "      --disabled-bg-color: #DDD;\n",
              "  }\n",
              "\n",
              "  [theme=dark] .colab-df-quickchart {\n",
              "      --bg-color: #3B4455;\n",
              "      --fill-color: #D2E3FC;\n",
              "      --hover-bg-color: #434B5C;\n",
              "      --hover-fill-color: #FFFFFF;\n",
              "      --disabled-bg-color: #3B4455;\n",
              "      --disabled-fill-color: #666;\n",
              "  }\n",
              "\n",
              "  .colab-df-quickchart {\n",
              "    background-color: var(--bg-color);\n",
              "    border: none;\n",
              "    border-radius: 50%;\n",
              "    cursor: pointer;\n",
              "    display: none;\n",
              "    fill: var(--fill-color);\n",
              "    height: 32px;\n",
              "    padding: 0;\n",
              "    width: 32px;\n",
              "  }\n",
              "\n",
              "  .colab-df-quickchart:hover {\n",
              "    background-color: var(--hover-bg-color);\n",
              "    box-shadow: 0 1px 2px rgba(60, 64, 67, 0.3), 0 1px 3px 1px rgba(60, 64, 67, 0.15);\n",
              "    fill: var(--button-hover-fill-color);\n",
              "  }\n",
              "\n",
              "  .colab-df-quickchart-complete:disabled,\n",
              "  .colab-df-quickchart-complete:disabled:hover {\n",
              "    background-color: var(--disabled-bg-color);\n",
              "    fill: var(--disabled-fill-color);\n",
              "    box-shadow: none;\n",
              "  }\n",
              "\n",
              "  .colab-df-spinner {\n",
              "    border: 2px solid var(--fill-color);\n",
              "    border-color: transparent;\n",
              "    border-bottom-color: var(--fill-color);\n",
              "    animation:\n",
              "      spin 1s steps(1) infinite;\n",
              "  }\n",
              "\n",
              "  @keyframes spin {\n",
              "    0% {\n",
              "      border-color: transparent;\n",
              "      border-bottom-color: var(--fill-color);\n",
              "      border-left-color: var(--fill-color);\n",
              "    }\n",
              "    20% {\n",
              "      border-color: transparent;\n",
              "      border-left-color: var(--fill-color);\n",
              "      border-top-color: var(--fill-color);\n",
              "    }\n",
              "    30% {\n",
              "      border-color: transparent;\n",
              "      border-left-color: var(--fill-color);\n",
              "      border-top-color: var(--fill-color);\n",
              "      border-right-color: var(--fill-color);\n",
              "    }\n",
              "    40% {\n",
              "      border-color: transparent;\n",
              "      border-right-color: var(--fill-color);\n",
              "      border-top-color: var(--fill-color);\n",
              "    }\n",
              "    60% {\n",
              "      border-color: transparent;\n",
              "      border-right-color: var(--fill-color);\n",
              "    }\n",
              "    80% {\n",
              "      border-color: transparent;\n",
              "      border-right-color: var(--fill-color);\n",
              "      border-bottom-color: var(--fill-color);\n",
              "    }\n",
              "    90% {\n",
              "      border-color: transparent;\n",
              "      border-bottom-color: var(--fill-color);\n",
              "    }\n",
              "  }\n",
              "</style>\n",
              "\n",
              "  <script>\n",
              "    async function quickchart(key) {\n",
              "      const quickchartButtonEl =\n",
              "        document.querySelector('#' + key + ' button');\n",
              "      quickchartButtonEl.disabled = true;  // To prevent multiple clicks.\n",
              "      quickchartButtonEl.classList.add('colab-df-spinner');\n",
              "      try {\n",
              "        const charts = await google.colab.kernel.invokeFunction(\n",
              "            'suggestCharts', [key], {});\n",
              "      } catch (error) {\n",
              "        console.error('Error during call to suggestCharts:', error);\n",
              "      }\n",
              "      quickchartButtonEl.classList.remove('colab-df-spinner');\n",
              "      quickchartButtonEl.classList.add('colab-df-quickchart-complete');\n",
              "    }\n",
              "    (() => {\n",
              "      let quickchartButtonEl =\n",
              "        document.querySelector('#df-9e053066-8144-4283-b7b0-4ece09ab313f button');\n",
              "      quickchartButtonEl.style.display =\n",
              "        google.colab.kernel.accessAllowed ? 'block' : 'none';\n",
              "    })();\n",
              "  </script>\n",
              "</div>\n",
              "\n",
              "    </div>\n",
              "  </div>\n"
            ],
            "application/vnd.google.colaboratory.intrinsic+json": {
              "type": "dataframe",
              "variable_name": "df"
            }
          },
          "metadata": {},
          "execution_count": 28
        }
      ],
      "source": [
        "df.head()"
      ]
    },
    {
      "cell_type": "code",
      "execution_count": 29,
      "metadata": {
        "execution": {
          "iopub.execute_input": "2025-02-04T05:34:19.681885Z",
          "iopub.status.busy": "2025-02-04T05:34:19.681465Z",
          "iopub.status.idle": "2025-02-04T05:34:19.689309Z",
          "shell.execute_reply": "2025-02-04T05:34:19.687856Z",
          "shell.execute_reply.started": "2025-02-04T05:34:19.681816Z"
        },
        "id": "wvcMcRo-vMgG",
        "outputId": "f1c1b84f-e7dd-43d6-dd15-c2086c2e0d2b",
        "colab": {
          "base_uri": "https://localhost:8080/"
        }
      },
      "outputs": [
        {
          "output_type": "execute_result",
          "data": {
            "text/plain": [
              "Index(['ID', 'Source', 'Severity', 'Start_Time', 'End_Time', 'Start_Lat',\n",
              "       'Start_Lng', 'End_Lat', 'End_Lng', 'Distance(mi)', 'Description',\n",
              "       'Street', 'City', 'County', 'State', 'Zipcode', 'Country', 'Timezone',\n",
              "       'Airport_Code', 'Weather_Timestamp', 'Temperature(F)', 'Wind_Chill(F)',\n",
              "       'Humidity(%)', 'Pressure(in)', 'Visibility(mi)', 'Wind_Direction',\n",
              "       'Wind_Speed(mph)', 'Precipitation(in)', 'Weather_Condition', 'Amenity',\n",
              "       'Bump', 'Crossing', 'Give_Way', 'Junction', 'No_Exit', 'Railway',\n",
              "       'Roundabout', 'Station', 'Stop', 'Traffic_Calming', 'Traffic_Signal',\n",
              "       'Turning_Loop', 'Sunrise_Sunset', 'Civil_Twilight', 'Nautical_Twilight',\n",
              "       'Astronomical_Twilight'],\n",
              "      dtype='object')"
            ]
          },
          "metadata": {},
          "execution_count": 29
        }
      ],
      "source": [
        "len(df.columns)\n",
        "df.columns"
      ]
    },
    {
      "cell_type": "code",
      "execution_count": 30,
      "metadata": {
        "execution": {
          "iopub.execute_input": "2025-02-04T05:34:19.691714Z",
          "iopub.status.busy": "2025-02-04T05:34:19.691179Z",
          "iopub.status.idle": "2025-02-04T05:34:19.728547Z",
          "shell.execute_reply": "2025-02-04T05:34:19.726919Z",
          "shell.execute_reply.started": "2025-02-04T05:34:19.691673Z"
        },
        "id": "BV8hlAGovMgH",
        "outputId": "ed683de3-0f88-4350-9047-a6d5539a652b",
        "colab": {
          "base_uri": "https://localhost:8080/"
        }
      },
      "outputs": [
        {
          "output_type": "stream",
          "name": "stdout",
          "text": [
            "<class 'pandas.core.frame.DataFrame'>\n",
            "RangeIndex: 7728394 entries, 0 to 7728393\n",
            "Data columns (total 46 columns):\n",
            " #   Column                 Dtype  \n",
            "---  ------                 -----  \n",
            " 0   ID                     object \n",
            " 1   Source                 object \n",
            " 2   Severity               int64  \n",
            " 3   Start_Time             object \n",
            " 4   End_Time               object \n",
            " 5   Start_Lat              float64\n",
            " 6   Start_Lng              float64\n",
            " 7   End_Lat                float64\n",
            " 8   End_Lng                float64\n",
            " 9   Distance(mi)           float64\n",
            " 10  Description            object \n",
            " 11  Street                 object \n",
            " 12  City                   object \n",
            " 13  County                 object \n",
            " 14  State                  object \n",
            " 15  Zipcode                object \n",
            " 16  Country                object \n",
            " 17  Timezone               object \n",
            " 18  Airport_Code           object \n",
            " 19  Weather_Timestamp      object \n",
            " 20  Temperature(F)         float64\n",
            " 21  Wind_Chill(F)          float64\n",
            " 22  Humidity(%)            float64\n",
            " 23  Pressure(in)           float64\n",
            " 24  Visibility(mi)         float64\n",
            " 25  Wind_Direction         object \n",
            " 26  Wind_Speed(mph)        float64\n",
            " 27  Precipitation(in)      float64\n",
            " 28  Weather_Condition      object \n",
            " 29  Amenity                bool   \n",
            " 30  Bump                   bool   \n",
            " 31  Crossing               bool   \n",
            " 32  Give_Way               bool   \n",
            " 33  Junction               bool   \n",
            " 34  No_Exit                bool   \n",
            " 35  Railway                bool   \n",
            " 36  Roundabout             bool   \n",
            " 37  Station                bool   \n",
            " 38  Stop                   bool   \n",
            " 39  Traffic_Calming        bool   \n",
            " 40  Traffic_Signal         bool   \n",
            " 41  Turning_Loop           bool   \n",
            " 42  Sunrise_Sunset         object \n",
            " 43  Civil_Twilight         object \n",
            " 44  Nautical_Twilight      object \n",
            " 45  Astronomical_Twilight  object \n",
            "dtypes: bool(13), float64(12), int64(1), object(20)\n",
            "memory usage: 2.0+ GB\n"
          ]
        }
      ],
      "source": [
        "df.info()"
      ]
    },
    {
      "cell_type": "code",
      "execution_count": 31,
      "metadata": {
        "execution": {
          "iopub.execute_input": "2025-02-04T05:34:19.73276Z",
          "iopub.status.busy": "2025-02-04T05:34:19.732425Z",
          "iopub.status.idle": "2025-02-04T05:34:23.966139Z",
          "shell.execute_reply": "2025-02-04T05:34:23.965159Z",
          "shell.execute_reply.started": "2025-02-04T05:34:19.732735Z"
        },
        "id": "1cCwhozHvMgI",
        "outputId": "3220d87e-1927-4e9a-b66a-978d1c3fcbcf",
        "colab": {
          "base_uri": "https://localhost:8080/",
          "height": 320
        }
      },
      "outputs": [
        {
          "output_type": "execute_result",
          "data": {
            "text/plain": [
              "           Severity     Start_Lat     Start_Lng       End_Lat       End_Lng  \\\n",
              "count  7.728394e+06  7.728394e+06  7.728394e+06  4.325632e+06  4.325632e+06   \n",
              "mean   2.212384e+00  3.620119e+01 -9.470255e+01  3.626183e+01 -9.572557e+01   \n",
              "std    4.875313e-01  5.076079e+00  1.739176e+01  5.272905e+00  1.810793e+01   \n",
              "min    1.000000e+00  2.455480e+01 -1.246238e+02  2.456601e+01 -1.245457e+02   \n",
              "25%    2.000000e+00  3.339963e+01 -1.172194e+02  3.346207e+01 -1.177543e+02   \n",
              "50%    2.000000e+00  3.582397e+01 -8.776662e+01  3.618349e+01 -8.802789e+01   \n",
              "75%    2.000000e+00  4.008496e+01 -8.035368e+01  4.017892e+01 -8.024709e+01   \n",
              "max    4.000000e+00  4.900220e+01 -6.711317e+01  4.907500e+01 -6.710924e+01   \n",
              "\n",
              "       Distance(mi)  Temperature(F)  Wind_Chill(F)   Humidity(%)  \\\n",
              "count  7.728394e+06    7.564541e+06   5.729375e+06  7.554250e+06   \n",
              "mean   5.618423e-01    6.166329e+01   5.825105e+01  6.483104e+01   \n",
              "std    1.776811e+00    1.901365e+01   2.238983e+01  2.282097e+01   \n",
              "min    0.000000e+00   -8.900000e+01  -8.900000e+01  1.000000e+00   \n",
              "25%    0.000000e+00    4.900000e+01   4.300000e+01  4.800000e+01   \n",
              "50%    3.000000e-02    6.400000e+01   6.200000e+01  6.700000e+01   \n",
              "75%    4.640000e-01    7.600000e+01   7.500000e+01  8.400000e+01   \n",
              "max    4.417500e+02    2.070000e+02   2.070000e+02  1.000000e+02   \n",
              "\n",
              "       Pressure(in)  Visibility(mi)  Wind_Speed(mph)  Precipitation(in)  \n",
              "count  7.587715e+06    7.551296e+06     7.157161e+06       5.524808e+06  \n",
              "mean   2.953899e+01    9.090376e+00     7.685490e+00       8.407210e-03  \n",
              "std    1.006190e+00    2.688316e+00     5.424983e+00       1.102246e-01  \n",
              "min    0.000000e+00    0.000000e+00     0.000000e+00       0.000000e+00  \n",
              "25%    2.937000e+01    1.000000e+01     4.600000e+00       0.000000e+00  \n",
              "50%    2.986000e+01    1.000000e+01     7.000000e+00       0.000000e+00  \n",
              "75%    3.003000e+01    1.000000e+01     1.040000e+01       0.000000e+00  \n",
              "max    5.863000e+01    1.400000e+02     1.087000e+03       3.647000e+01  "
            ],
            "text/html": [
              "\n",
              "  <div id=\"df-24f841a6-564b-464e-9232-18902eb32a75\" class=\"colab-df-container\">\n",
              "    <div>\n",
              "<style scoped>\n",
              "    .dataframe tbody tr th:only-of-type {\n",
              "        vertical-align: middle;\n",
              "    }\n",
              "\n",
              "    .dataframe tbody tr th {\n",
              "        vertical-align: top;\n",
              "    }\n",
              "\n",
              "    .dataframe thead th {\n",
              "        text-align: right;\n",
              "    }\n",
              "</style>\n",
              "<table border=\"1\" class=\"dataframe\">\n",
              "  <thead>\n",
              "    <tr style=\"text-align: right;\">\n",
              "      <th></th>\n",
              "      <th>Severity</th>\n",
              "      <th>Start_Lat</th>\n",
              "      <th>Start_Lng</th>\n",
              "      <th>End_Lat</th>\n",
              "      <th>End_Lng</th>\n",
              "      <th>Distance(mi)</th>\n",
              "      <th>Temperature(F)</th>\n",
              "      <th>Wind_Chill(F)</th>\n",
              "      <th>Humidity(%)</th>\n",
              "      <th>Pressure(in)</th>\n",
              "      <th>Visibility(mi)</th>\n",
              "      <th>Wind_Speed(mph)</th>\n",
              "      <th>Precipitation(in)</th>\n",
              "    </tr>\n",
              "  </thead>\n",
              "  <tbody>\n",
              "    <tr>\n",
              "      <th>count</th>\n",
              "      <td>7.728394e+06</td>\n",
              "      <td>7.728394e+06</td>\n",
              "      <td>7.728394e+06</td>\n",
              "      <td>4.325632e+06</td>\n",
              "      <td>4.325632e+06</td>\n",
              "      <td>7.728394e+06</td>\n",
              "      <td>7.564541e+06</td>\n",
              "      <td>5.729375e+06</td>\n",
              "      <td>7.554250e+06</td>\n",
              "      <td>7.587715e+06</td>\n",
              "      <td>7.551296e+06</td>\n",
              "      <td>7.157161e+06</td>\n",
              "      <td>5.524808e+06</td>\n",
              "    </tr>\n",
              "    <tr>\n",
              "      <th>mean</th>\n",
              "      <td>2.212384e+00</td>\n",
              "      <td>3.620119e+01</td>\n",
              "      <td>-9.470255e+01</td>\n",
              "      <td>3.626183e+01</td>\n",
              "      <td>-9.572557e+01</td>\n",
              "      <td>5.618423e-01</td>\n",
              "      <td>6.166329e+01</td>\n",
              "      <td>5.825105e+01</td>\n",
              "      <td>6.483104e+01</td>\n",
              "      <td>2.953899e+01</td>\n",
              "      <td>9.090376e+00</td>\n",
              "      <td>7.685490e+00</td>\n",
              "      <td>8.407210e-03</td>\n",
              "    </tr>\n",
              "    <tr>\n",
              "      <th>std</th>\n",
              "      <td>4.875313e-01</td>\n",
              "      <td>5.076079e+00</td>\n",
              "      <td>1.739176e+01</td>\n",
              "      <td>5.272905e+00</td>\n",
              "      <td>1.810793e+01</td>\n",
              "      <td>1.776811e+00</td>\n",
              "      <td>1.901365e+01</td>\n",
              "      <td>2.238983e+01</td>\n",
              "      <td>2.282097e+01</td>\n",
              "      <td>1.006190e+00</td>\n",
              "      <td>2.688316e+00</td>\n",
              "      <td>5.424983e+00</td>\n",
              "      <td>1.102246e-01</td>\n",
              "    </tr>\n",
              "    <tr>\n",
              "      <th>min</th>\n",
              "      <td>1.000000e+00</td>\n",
              "      <td>2.455480e+01</td>\n",
              "      <td>-1.246238e+02</td>\n",
              "      <td>2.456601e+01</td>\n",
              "      <td>-1.245457e+02</td>\n",
              "      <td>0.000000e+00</td>\n",
              "      <td>-8.900000e+01</td>\n",
              "      <td>-8.900000e+01</td>\n",
              "      <td>1.000000e+00</td>\n",
              "      <td>0.000000e+00</td>\n",
              "      <td>0.000000e+00</td>\n",
              "      <td>0.000000e+00</td>\n",
              "      <td>0.000000e+00</td>\n",
              "    </tr>\n",
              "    <tr>\n",
              "      <th>25%</th>\n",
              "      <td>2.000000e+00</td>\n",
              "      <td>3.339963e+01</td>\n",
              "      <td>-1.172194e+02</td>\n",
              "      <td>3.346207e+01</td>\n",
              "      <td>-1.177543e+02</td>\n",
              "      <td>0.000000e+00</td>\n",
              "      <td>4.900000e+01</td>\n",
              "      <td>4.300000e+01</td>\n",
              "      <td>4.800000e+01</td>\n",
              "      <td>2.937000e+01</td>\n",
              "      <td>1.000000e+01</td>\n",
              "      <td>4.600000e+00</td>\n",
              "      <td>0.000000e+00</td>\n",
              "    </tr>\n",
              "    <tr>\n",
              "      <th>50%</th>\n",
              "      <td>2.000000e+00</td>\n",
              "      <td>3.582397e+01</td>\n",
              "      <td>-8.776662e+01</td>\n",
              "      <td>3.618349e+01</td>\n",
              "      <td>-8.802789e+01</td>\n",
              "      <td>3.000000e-02</td>\n",
              "      <td>6.400000e+01</td>\n",
              "      <td>6.200000e+01</td>\n",
              "      <td>6.700000e+01</td>\n",
              "      <td>2.986000e+01</td>\n",
              "      <td>1.000000e+01</td>\n",
              "      <td>7.000000e+00</td>\n",
              "      <td>0.000000e+00</td>\n",
              "    </tr>\n",
              "    <tr>\n",
              "      <th>75%</th>\n",
              "      <td>2.000000e+00</td>\n",
              "      <td>4.008496e+01</td>\n",
              "      <td>-8.035368e+01</td>\n",
              "      <td>4.017892e+01</td>\n",
              "      <td>-8.024709e+01</td>\n",
              "      <td>4.640000e-01</td>\n",
              "      <td>7.600000e+01</td>\n",
              "      <td>7.500000e+01</td>\n",
              "      <td>8.400000e+01</td>\n",
              "      <td>3.003000e+01</td>\n",
              "      <td>1.000000e+01</td>\n",
              "      <td>1.040000e+01</td>\n",
              "      <td>0.000000e+00</td>\n",
              "    </tr>\n",
              "    <tr>\n",
              "      <th>max</th>\n",
              "      <td>4.000000e+00</td>\n",
              "      <td>4.900220e+01</td>\n",
              "      <td>-6.711317e+01</td>\n",
              "      <td>4.907500e+01</td>\n",
              "      <td>-6.710924e+01</td>\n",
              "      <td>4.417500e+02</td>\n",
              "      <td>2.070000e+02</td>\n",
              "      <td>2.070000e+02</td>\n",
              "      <td>1.000000e+02</td>\n",
              "      <td>5.863000e+01</td>\n",
              "      <td>1.400000e+02</td>\n",
              "      <td>1.087000e+03</td>\n",
              "      <td>3.647000e+01</td>\n",
              "    </tr>\n",
              "  </tbody>\n",
              "</table>\n",
              "</div>\n",
              "    <div class=\"colab-df-buttons\">\n",
              "\n",
              "  <div class=\"colab-df-container\">\n",
              "    <button class=\"colab-df-convert\" onclick=\"convertToInteractive('df-24f841a6-564b-464e-9232-18902eb32a75')\"\n",
              "            title=\"Convert this dataframe to an interactive table.\"\n",
              "            style=\"display:none;\">\n",
              "\n",
              "  <svg xmlns=\"http://www.w3.org/2000/svg\" height=\"24px\" viewBox=\"0 -960 960 960\">\n",
              "    <path d=\"M120-120v-720h720v720H120Zm60-500h600v-160H180v160Zm220 220h160v-160H400v160Zm0 220h160v-160H400v160ZM180-400h160v-160H180v160Zm440 0h160v-160H620v160ZM180-180h160v-160H180v160Zm440 0h160v-160H620v160Z\"/>\n",
              "  </svg>\n",
              "    </button>\n",
              "\n",
              "  <style>\n",
              "    .colab-df-container {\n",
              "      display:flex;\n",
              "      gap: 12px;\n",
              "    }\n",
              "\n",
              "    .colab-df-convert {\n",
              "      background-color: #E8F0FE;\n",
              "      border: none;\n",
              "      border-radius: 50%;\n",
              "      cursor: pointer;\n",
              "      display: none;\n",
              "      fill: #1967D2;\n",
              "      height: 32px;\n",
              "      padding: 0 0 0 0;\n",
              "      width: 32px;\n",
              "    }\n",
              "\n",
              "    .colab-df-convert:hover {\n",
              "      background-color: #E2EBFA;\n",
              "      box-shadow: 0px 1px 2px rgba(60, 64, 67, 0.3), 0px 1px 3px 1px rgba(60, 64, 67, 0.15);\n",
              "      fill: #174EA6;\n",
              "    }\n",
              "\n",
              "    .colab-df-buttons div {\n",
              "      margin-bottom: 4px;\n",
              "    }\n",
              "\n",
              "    [theme=dark] .colab-df-convert {\n",
              "      background-color: #3B4455;\n",
              "      fill: #D2E3FC;\n",
              "    }\n",
              "\n",
              "    [theme=dark] .colab-df-convert:hover {\n",
              "      background-color: #434B5C;\n",
              "      box-shadow: 0px 1px 3px 1px rgba(0, 0, 0, 0.15);\n",
              "      filter: drop-shadow(0px 1px 2px rgba(0, 0, 0, 0.3));\n",
              "      fill: #FFFFFF;\n",
              "    }\n",
              "  </style>\n",
              "\n",
              "    <script>\n",
              "      const buttonEl =\n",
              "        document.querySelector('#df-24f841a6-564b-464e-9232-18902eb32a75 button.colab-df-convert');\n",
              "      buttonEl.style.display =\n",
              "        google.colab.kernel.accessAllowed ? 'block' : 'none';\n",
              "\n",
              "      async function convertToInteractive(key) {\n",
              "        const element = document.querySelector('#df-24f841a6-564b-464e-9232-18902eb32a75');\n",
              "        const dataTable =\n",
              "          await google.colab.kernel.invokeFunction('convertToInteractive',\n",
              "                                                    [key], {});\n",
              "        if (!dataTable) return;\n",
              "\n",
              "        const docLinkHtml = 'Like what you see? Visit the ' +\n",
              "          '<a target=\"_blank\" href=https://colab.research.google.com/notebooks/data_table.ipynb>data table notebook</a>'\n",
              "          + ' to learn more about interactive tables.';\n",
              "        element.innerHTML = '';\n",
              "        dataTable['output_type'] = 'display_data';\n",
              "        await google.colab.output.renderOutput(dataTable, element);\n",
              "        const docLink = document.createElement('div');\n",
              "        docLink.innerHTML = docLinkHtml;\n",
              "        element.appendChild(docLink);\n",
              "      }\n",
              "    </script>\n",
              "  </div>\n",
              "\n",
              "\n",
              "<div id=\"df-9ec3c013-de4e-4bc3-afb6-5bbe31c5d6cf\">\n",
              "  <button class=\"colab-df-quickchart\" onclick=\"quickchart('df-9ec3c013-de4e-4bc3-afb6-5bbe31c5d6cf')\"\n",
              "            title=\"Suggest charts\"\n",
              "            style=\"display:none;\">\n",
              "\n",
              "<svg xmlns=\"http://www.w3.org/2000/svg\" height=\"24px\"viewBox=\"0 0 24 24\"\n",
              "     width=\"24px\">\n",
              "    <g>\n",
              "        <path d=\"M19 3H5c-1.1 0-2 .9-2 2v14c0 1.1.9 2 2 2h14c1.1 0 2-.9 2-2V5c0-1.1-.9-2-2-2zM9 17H7v-7h2v7zm4 0h-2V7h2v10zm4 0h-2v-4h2v4z\"/>\n",
              "    </g>\n",
              "</svg>\n",
              "  </button>\n",
              "\n",
              "<style>\n",
              "  .colab-df-quickchart {\n",
              "      --bg-color: #E8F0FE;\n",
              "      --fill-color: #1967D2;\n",
              "      --hover-bg-color: #E2EBFA;\n",
              "      --hover-fill-color: #174EA6;\n",
              "      --disabled-fill-color: #AAA;\n",
              "      --disabled-bg-color: #DDD;\n",
              "  }\n",
              "\n",
              "  [theme=dark] .colab-df-quickchart {\n",
              "      --bg-color: #3B4455;\n",
              "      --fill-color: #D2E3FC;\n",
              "      --hover-bg-color: #434B5C;\n",
              "      --hover-fill-color: #FFFFFF;\n",
              "      --disabled-bg-color: #3B4455;\n",
              "      --disabled-fill-color: #666;\n",
              "  }\n",
              "\n",
              "  .colab-df-quickchart {\n",
              "    background-color: var(--bg-color);\n",
              "    border: none;\n",
              "    border-radius: 50%;\n",
              "    cursor: pointer;\n",
              "    display: none;\n",
              "    fill: var(--fill-color);\n",
              "    height: 32px;\n",
              "    padding: 0;\n",
              "    width: 32px;\n",
              "  }\n",
              "\n",
              "  .colab-df-quickchart:hover {\n",
              "    background-color: var(--hover-bg-color);\n",
              "    box-shadow: 0 1px 2px rgba(60, 64, 67, 0.3), 0 1px 3px 1px rgba(60, 64, 67, 0.15);\n",
              "    fill: var(--button-hover-fill-color);\n",
              "  }\n",
              "\n",
              "  .colab-df-quickchart-complete:disabled,\n",
              "  .colab-df-quickchart-complete:disabled:hover {\n",
              "    background-color: var(--disabled-bg-color);\n",
              "    fill: var(--disabled-fill-color);\n",
              "    box-shadow: none;\n",
              "  }\n",
              "\n",
              "  .colab-df-spinner {\n",
              "    border: 2px solid var(--fill-color);\n",
              "    border-color: transparent;\n",
              "    border-bottom-color: var(--fill-color);\n",
              "    animation:\n",
              "      spin 1s steps(1) infinite;\n",
              "  }\n",
              "\n",
              "  @keyframes spin {\n",
              "    0% {\n",
              "      border-color: transparent;\n",
              "      border-bottom-color: var(--fill-color);\n",
              "      border-left-color: var(--fill-color);\n",
              "    }\n",
              "    20% {\n",
              "      border-color: transparent;\n",
              "      border-left-color: var(--fill-color);\n",
              "      border-top-color: var(--fill-color);\n",
              "    }\n",
              "    30% {\n",
              "      border-color: transparent;\n",
              "      border-left-color: var(--fill-color);\n",
              "      border-top-color: var(--fill-color);\n",
              "      border-right-color: var(--fill-color);\n",
              "    }\n",
              "    40% {\n",
              "      border-color: transparent;\n",
              "      border-right-color: var(--fill-color);\n",
              "      border-top-color: var(--fill-color);\n",
              "    }\n",
              "    60% {\n",
              "      border-color: transparent;\n",
              "      border-right-color: var(--fill-color);\n",
              "    }\n",
              "    80% {\n",
              "      border-color: transparent;\n",
              "      border-right-color: var(--fill-color);\n",
              "      border-bottom-color: var(--fill-color);\n",
              "    }\n",
              "    90% {\n",
              "      border-color: transparent;\n",
              "      border-bottom-color: var(--fill-color);\n",
              "    }\n",
              "  }\n",
              "</style>\n",
              "\n",
              "  <script>\n",
              "    async function quickchart(key) {\n",
              "      const quickchartButtonEl =\n",
              "        document.querySelector('#' + key + ' button');\n",
              "      quickchartButtonEl.disabled = true;  // To prevent multiple clicks.\n",
              "      quickchartButtonEl.classList.add('colab-df-spinner');\n",
              "      try {\n",
              "        const charts = await google.colab.kernel.invokeFunction(\n",
              "            'suggestCharts', [key], {});\n",
              "      } catch (error) {\n",
              "        console.error('Error during call to suggestCharts:', error);\n",
              "      }\n",
              "      quickchartButtonEl.classList.remove('colab-df-spinner');\n",
              "      quickchartButtonEl.classList.add('colab-df-quickchart-complete');\n",
              "    }\n",
              "    (() => {\n",
              "      let quickchartButtonEl =\n",
              "        document.querySelector('#df-9ec3c013-de4e-4bc3-afb6-5bbe31c5d6cf button');\n",
              "      quickchartButtonEl.style.display =\n",
              "        google.colab.kernel.accessAllowed ? 'block' : 'none';\n",
              "    })();\n",
              "  </script>\n",
              "</div>\n",
              "\n",
              "    </div>\n",
              "  </div>\n"
            ],
            "application/vnd.google.colaboratory.intrinsic+json": {
              "type": "dataframe",
              "summary": "{\n  \"name\": \"df\",\n  \"rows\": 8,\n  \"fields\": [\n    {\n      \"column\": \"Severity\",\n      \"properties\": {\n        \"dtype\": \"number\",\n        \"std\": 2732399.2105906634,\n        \"min\": 0.4875313339360358,\n        \"max\": 7728394.0,\n        \"num_unique_values\": 6,\n        \"samples\": [\n          7728394.0,\n          2.212384487643875,\n          4.0\n        ],\n        \"semantic_type\": \"\",\n        \"description\": \"\"\n      }\n    },\n    {\n      \"column\": \"Start_Lat\",\n      \"properties\": {\n        \"dtype\": \"number\",\n        \"std\": 2732388.581648332,\n        \"min\": 5.076079113874019,\n        \"max\": 7728394.0,\n        \"num_unique_values\": 8,\n        \"samples\": [\n          36.20119454946413,\n          35.823974,\n          7728394.0\n        ],\n        \"semantic_type\": \"\",\n        \"description\": \"\"\n      }\n    },\n    {\n      \"column\": \"Start_Lng\",\n      \"properties\": {\n        \"dtype\": \"number\",\n        \"std\": 2732427.9036844345,\n        \"min\": -124.623833,\n        \"max\": 7728394.0,\n        \"num_unique_values\": 8,\n        \"samples\": [\n          -94.70254538793334,\n          -87.76661600000001,\n          7728394.0\n        ],\n        \"semantic_type\": \"\",\n        \"description\": \"\"\n      }\n    },\n    {\n      \"column\": \"End_Lat\",\n      \"properties\": {\n        \"dtype\": \"number\",\n        \"std\": 1529330.495885432,\n        \"min\": 5.272904539384634,\n        \"max\": 4325632.0,\n        \"num_unique_values\": 8,\n        \"samples\": [\n          36.26182889162043,\n          36.18349450000001,\n          4325632.0\n        ],\n        \"semantic_type\": \"\",\n        \"description\": \"\"\n      }\n    },\n    {\n      \"column\": \"End_Lng\",\n      \"properties\": {\n        \"dtype\": \"number\",\n        \"std\": 1529369.907673776,\n        \"min\": -124.545748,\n        \"max\": 4325632.0,\n        \"num_unique_values\": 8,\n        \"samples\": [\n          -95.7255702600689,\n          -88.02789000000001,\n          4325632.0\n        ],\n        \"semantic_type\": \"\",\n        \"description\": \"\"\n      }\n    },\n    {\n      \"column\": \"Distance(mi)\",\n      \"properties\": {\n        \"dtype\": \"number\",\n        \"std\": 2732377.452089108,\n        \"min\": 0.0,\n        \"max\": 7728394.0,\n        \"num_unique_values\": 7,\n        \"samples\": [\n          7728394.0,\n          0.5618422831523752,\n          0.464\n        ],\n        \"semantic_type\": \"\",\n        \"description\": \"\"\n      }\n    },\n    {\n      \"column\": \"Temperature(F)\",\n      \"properties\": {\n        \"dtype\": \"number\",\n        \"std\": 2674449.539411026,\n        \"min\": -89.0,\n        \"max\": 7564541.0,\n        \"num_unique_values\": 8,\n        \"samples\": [\n          61.66328580941001,\n          64.0,\n          7564541.0\n        ],\n        \"semantic_type\": \"\",\n        \"description\": \"\"\n      }\n    },\n    {\n      \"column\": \"Wind_Chill(F)\",\n      \"properties\": {\n        \"dtype\": \"number\",\n        \"std\": 2025620.8345823996,\n        \"min\": -89.0,\n        \"max\": 5729375.0,\n        \"num_unique_values\": 8,\n        \"samples\": [\n          58.25104839533105,\n          62.0,\n          5729375.0\n        ],\n        \"semantic_type\": \"\",\n        \"description\": \"\"\n      }\n    },\n    {\n      \"column\": \"Humidity(%)\",\n      \"properties\": {\n        \"dtype\": \"number\",\n        \"std\": 2670811.1216961145,\n        \"min\": 1.0,\n        \"max\": 7554250.0,\n        \"num_unique_values\": 8,\n        \"samples\": [\n          64.83104146672403,\n          67.0,\n          7554250.0\n        ],\n        \"semantic_type\": \"\",\n        \"description\": \"\"\n      }\n    },\n    {\n      \"column\": \"Pressure(in)\",\n      \"properties\": {\n        \"dtype\": \"number\",\n        \"std\": 2682653.352832516,\n        \"min\": 0.0,\n        \"max\": 7587715.0,\n        \"num_unique_values\": 8,\n        \"samples\": [\n          29.538985607656585,\n          29.86,\n          7587715.0\n        ],\n        \"semantic_type\": \"\",\n        \"description\": \"\"\n      }\n    },\n    {\n      \"column\": \"Visibility(mi)\",\n      \"properties\": {\n        \"dtype\": \"number\",\n        \"std\": 2669777.1233715178,\n        \"min\": 0.0,\n        \"max\": 7551296.0,\n        \"num_unique_values\": 6,\n        \"samples\": [\n          7551296.0,\n          9.090376447963356,\n          140.0\n        ],\n        \"semantic_type\": \"\",\n        \"description\": \"\"\n      }\n    },\n    {\n      \"column\": \"Wind_Speed(mph)\",\n      \"properties\": {\n        \"dtype\": \"number\",\n        \"std\": 2530381.8917181646,\n        \"min\": 0.0,\n        \"max\": 7157161.0,\n        \"num_unique_values\": 8,\n        \"samples\": [\n          7.685489595665099,\n          7.0,\n          7157161.0\n        ],\n        \"semantic_type\": \"\",\n        \"description\": \"\"\n      }\n    },\n    {\n      \"column\": \"Precipitation(in)\",\n      \"properties\": {\n        \"dtype\": \"number\",\n        \"std\": 1953312.7528135092,\n        \"min\": 0.0,\n        \"max\": 5524808.0,\n        \"num_unique_values\": 5,\n        \"samples\": [\n          0.008407209807110037,\n          36.47,\n          0.11022464885795519\n        ],\n        \"semantic_type\": \"\",\n        \"description\": \"\"\n      }\n    }\n  ]\n}"
            }
          },
          "metadata": {},
          "execution_count": 31
        }
      ],
      "source": [
        "df.describe()"
      ]
    },
    {
      "cell_type": "code",
      "execution_count": 32,
      "metadata": {
        "execution": {
          "iopub.execute_input": "2025-02-04T05:34:23.968542Z",
          "iopub.status.busy": "2025-02-04T05:34:23.968198Z",
          "iopub.status.idle": "2025-02-04T05:34:24.260152Z",
          "shell.execute_reply": "2025-02-04T05:34:24.258568Z",
          "shell.execute_reply.started": "2025-02-04T05:34:23.968515Z"
        },
        "id": "iTasnsdsvMgI",
        "outputId": "a0bd63f7-f6c3-4b0e-ae40-077efa2a4576",
        "colab": {
          "base_uri": "https://localhost:8080/"
        }
      },
      "outputs": [
        {
          "output_type": "execute_result",
          "data": {
            "text/plain": [
              "13"
            ]
          },
          "metadata": {},
          "execution_count": 32
        }
      ],
      "source": [
        "numerics = ['int16', 'int32', 'int64', 'float16', 'float32', 'float64']\n",
        "numeric_df = df.select_dtypes(include=numerics)\n",
        "len(numeric_df.columns)"
      ]
    },
    {
      "cell_type": "code",
      "execution_count": 33,
      "metadata": {
        "execution": {
          "iopub.execute_input": "2025-02-04T05:34:24.261689Z",
          "iopub.status.busy": "2025-02-04T05:34:24.261389Z",
          "iopub.status.idle": "2025-02-04T05:34:32.304781Z",
          "shell.execute_reply": "2025-02-04T05:34:32.303869Z",
          "shell.execute_reply.started": "2025-02-04T05:34:24.261666Z"
        },
        "id": "xJG08cMKvMgJ",
        "outputId": "4d6a683f-652a-494d-aec0-a314d04d2c49",
        "colab": {
          "base_uri": "https://localhost:8080/",
          "height": 1000
        }
      },
      "outputs": [
        {
          "output_type": "execute_result",
          "data": {
            "text/plain": [
              "End_Lng                  3402762\n",
              "End_Lat                  3402762\n",
              "Precipitation(in)        2203586\n",
              "Wind_Chill(F)            1999019\n",
              "Wind_Speed(mph)           571233\n",
              "Visibility(mi)            177098\n",
              "Wind_Direction            175206\n",
              "Humidity(%)               174144\n",
              "Weather_Condition         173459\n",
              "Temperature(F)            163853\n",
              "Pressure(in)              140679\n",
              "Weather_Timestamp         120228\n",
              "Sunrise_Sunset             23246\n",
              "Civil_Twilight             23246\n",
              "Astronomical_Twilight      23246\n",
              "Nautical_Twilight          23246\n",
              "Airport_Code               22635\n",
              "Street                     10869\n",
              "Timezone                    7808\n",
              "Zipcode                     1915\n",
              "City                         253\n",
              "Description                    5\n",
              "ID                             0\n",
              "Distance(mi)                   0\n",
              "Start_Lng                      0\n",
              "Source                         0\n",
              "Severity                       0\n",
              "Start_Time                     0\n",
              "End_Time                       0\n",
              "Start_Lat                      0\n",
              "County                         0\n",
              "Amenity                        0\n",
              "Country                        0\n",
              "State                          0\n",
              "Bump                           0\n",
              "Crossing                       0\n",
              "Give_Way                       0\n",
              "Junction                       0\n",
              "Station                        0\n",
              "Roundabout                     0\n",
              "Railway                        0\n",
              "No_Exit                        0\n",
              "Turning_Loop                   0\n",
              "Traffic_Signal                 0\n",
              "Traffic_Calming                0\n",
              "Stop                           0\n",
              "dtype: int64"
            ],
            "text/html": [
              "<div>\n",
              "<style scoped>\n",
              "    .dataframe tbody tr th:only-of-type {\n",
              "        vertical-align: middle;\n",
              "    }\n",
              "\n",
              "    .dataframe tbody tr th {\n",
              "        vertical-align: top;\n",
              "    }\n",
              "\n",
              "    .dataframe thead th {\n",
              "        text-align: right;\n",
              "    }\n",
              "</style>\n",
              "<table border=\"1\" class=\"dataframe\">\n",
              "  <thead>\n",
              "    <tr style=\"text-align: right;\">\n",
              "      <th></th>\n",
              "      <th>0</th>\n",
              "    </tr>\n",
              "  </thead>\n",
              "  <tbody>\n",
              "    <tr>\n",
              "      <th>End_Lng</th>\n",
              "      <td>3402762</td>\n",
              "    </tr>\n",
              "    <tr>\n",
              "      <th>End_Lat</th>\n",
              "      <td>3402762</td>\n",
              "    </tr>\n",
              "    <tr>\n",
              "      <th>Precipitation(in)</th>\n",
              "      <td>2203586</td>\n",
              "    </tr>\n",
              "    <tr>\n",
              "      <th>Wind_Chill(F)</th>\n",
              "      <td>1999019</td>\n",
              "    </tr>\n",
              "    <tr>\n",
              "      <th>Wind_Speed(mph)</th>\n",
              "      <td>571233</td>\n",
              "    </tr>\n",
              "    <tr>\n",
              "      <th>Visibility(mi)</th>\n",
              "      <td>177098</td>\n",
              "    </tr>\n",
              "    <tr>\n",
              "      <th>Wind_Direction</th>\n",
              "      <td>175206</td>\n",
              "    </tr>\n",
              "    <tr>\n",
              "      <th>Humidity(%)</th>\n",
              "      <td>174144</td>\n",
              "    </tr>\n",
              "    <tr>\n",
              "      <th>Weather_Condition</th>\n",
              "      <td>173459</td>\n",
              "    </tr>\n",
              "    <tr>\n",
              "      <th>Temperature(F)</th>\n",
              "      <td>163853</td>\n",
              "    </tr>\n",
              "    <tr>\n",
              "      <th>Pressure(in)</th>\n",
              "      <td>140679</td>\n",
              "    </tr>\n",
              "    <tr>\n",
              "      <th>Weather_Timestamp</th>\n",
              "      <td>120228</td>\n",
              "    </tr>\n",
              "    <tr>\n",
              "      <th>Sunrise_Sunset</th>\n",
              "      <td>23246</td>\n",
              "    </tr>\n",
              "    <tr>\n",
              "      <th>Civil_Twilight</th>\n",
              "      <td>23246</td>\n",
              "    </tr>\n",
              "    <tr>\n",
              "      <th>Astronomical_Twilight</th>\n",
              "      <td>23246</td>\n",
              "    </tr>\n",
              "    <tr>\n",
              "      <th>Nautical_Twilight</th>\n",
              "      <td>23246</td>\n",
              "    </tr>\n",
              "    <tr>\n",
              "      <th>Airport_Code</th>\n",
              "      <td>22635</td>\n",
              "    </tr>\n",
              "    <tr>\n",
              "      <th>Street</th>\n",
              "      <td>10869</td>\n",
              "    </tr>\n",
              "    <tr>\n",
              "      <th>Timezone</th>\n",
              "      <td>7808</td>\n",
              "    </tr>\n",
              "    <tr>\n",
              "      <th>Zipcode</th>\n",
              "      <td>1915</td>\n",
              "    </tr>\n",
              "    <tr>\n",
              "      <th>City</th>\n",
              "      <td>253</td>\n",
              "    </tr>\n",
              "    <tr>\n",
              "      <th>Description</th>\n",
              "      <td>5</td>\n",
              "    </tr>\n",
              "    <tr>\n",
              "      <th>ID</th>\n",
              "      <td>0</td>\n",
              "    </tr>\n",
              "    <tr>\n",
              "      <th>Distance(mi)</th>\n",
              "      <td>0</td>\n",
              "    </tr>\n",
              "    <tr>\n",
              "      <th>Start_Lng</th>\n",
              "      <td>0</td>\n",
              "    </tr>\n",
              "    <tr>\n",
              "      <th>Source</th>\n",
              "      <td>0</td>\n",
              "    </tr>\n",
              "    <tr>\n",
              "      <th>Severity</th>\n",
              "      <td>0</td>\n",
              "    </tr>\n",
              "    <tr>\n",
              "      <th>Start_Time</th>\n",
              "      <td>0</td>\n",
              "    </tr>\n",
              "    <tr>\n",
              "      <th>End_Time</th>\n",
              "      <td>0</td>\n",
              "    </tr>\n",
              "    <tr>\n",
              "      <th>Start_Lat</th>\n",
              "      <td>0</td>\n",
              "    </tr>\n",
              "    <tr>\n",
              "      <th>County</th>\n",
              "      <td>0</td>\n",
              "    </tr>\n",
              "    <tr>\n",
              "      <th>Amenity</th>\n",
              "      <td>0</td>\n",
              "    </tr>\n",
              "    <tr>\n",
              "      <th>Country</th>\n",
              "      <td>0</td>\n",
              "    </tr>\n",
              "    <tr>\n",
              "      <th>State</th>\n",
              "      <td>0</td>\n",
              "    </tr>\n",
              "    <tr>\n",
              "      <th>Bump</th>\n",
              "      <td>0</td>\n",
              "    </tr>\n",
              "    <tr>\n",
              "      <th>Crossing</th>\n",
              "      <td>0</td>\n",
              "    </tr>\n",
              "    <tr>\n",
              "      <th>Give_Way</th>\n",
              "      <td>0</td>\n",
              "    </tr>\n",
              "    <tr>\n",
              "      <th>Junction</th>\n",
              "      <td>0</td>\n",
              "    </tr>\n",
              "    <tr>\n",
              "      <th>Station</th>\n",
              "      <td>0</td>\n",
              "    </tr>\n",
              "    <tr>\n",
              "      <th>Roundabout</th>\n",
              "      <td>0</td>\n",
              "    </tr>\n",
              "    <tr>\n",
              "      <th>Railway</th>\n",
              "      <td>0</td>\n",
              "    </tr>\n",
              "    <tr>\n",
              "      <th>No_Exit</th>\n",
              "      <td>0</td>\n",
              "    </tr>\n",
              "    <tr>\n",
              "      <th>Turning_Loop</th>\n",
              "      <td>0</td>\n",
              "    </tr>\n",
              "    <tr>\n",
              "      <th>Traffic_Signal</th>\n",
              "      <td>0</td>\n",
              "    </tr>\n",
              "    <tr>\n",
              "      <th>Traffic_Calming</th>\n",
              "      <td>0</td>\n",
              "    </tr>\n",
              "    <tr>\n",
              "      <th>Stop</th>\n",
              "      <td>0</td>\n",
              "    </tr>\n",
              "  </tbody>\n",
              "</table>\n",
              "</div><br><label><b>dtype:</b> int64</label>"
            ]
          },
          "metadata": {},
          "execution_count": 33
        }
      ],
      "source": [
        "df.isna().sum().sort_values(ascending = False)"
      ]
    },
    {
      "cell_type": "markdown",
      "metadata": {
        "id": "vxTv4NI2vMgJ"
      },
      "source": [
        " <h3>Percentage of Missing value per column</h3>"
      ]
    },
    {
      "cell_type": "code",
      "execution_count": 34,
      "metadata": {
        "execution": {
          "iopub.execute_input": "2025-02-04T05:34:32.306249Z",
          "iopub.status.busy": "2025-02-04T05:34:32.305907Z",
          "iopub.status.idle": "2025-02-04T05:34:40.337242Z",
          "shell.execute_reply": "2025-02-04T05:34:40.336234Z",
          "shell.execute_reply.started": "2025-02-04T05:34:32.306221Z"
        },
        "id": "9HlIfT3SvMgN",
        "outputId": "b17ecda3-e9a1-4999-e197-c95c8ef25d4f",
        "colab": {
          "base_uri": "https://localhost:8080/",
          "height": 1000
        }
      },
      "outputs": [
        {
          "output_type": "execute_result",
          "data": {
            "text/plain": [
              "End_Lng                  4.402935e-01\n",
              "End_Lat                  4.402935e-01\n",
              "Precipitation(in)        2.851286e-01\n",
              "Wind_Chill(F)            2.586590e-01\n",
              "Wind_Speed(mph)          7.391355e-02\n",
              "Visibility(mi)           2.291524e-02\n",
              "Wind_Direction           2.267043e-02\n",
              "Humidity(%)              2.253301e-02\n",
              "Weather_Condition        2.244438e-02\n",
              "Temperature(F)           2.120143e-02\n",
              "Pressure(in)             1.820288e-02\n",
              "Weather_Timestamp        1.555666e-02\n",
              "Sunrise_Sunset           3.007869e-03\n",
              "Civil_Twilight           3.007869e-03\n",
              "Astronomical_Twilight    3.007869e-03\n",
              "Nautical_Twilight        3.007869e-03\n",
              "Airport_Code             2.928810e-03\n",
              "Street                   1.406372e-03\n",
              "Timezone                 1.010300e-03\n",
              "Zipcode                  2.477876e-04\n",
              "City                     3.273643e-05\n",
              "Description              6.469649e-07\n",
              "ID                       0.000000e+00\n",
              "Distance(mi)             0.000000e+00\n",
              "Start_Lng                0.000000e+00\n",
              "Source                   0.000000e+00\n",
              "Severity                 0.000000e+00\n",
              "Start_Time               0.000000e+00\n",
              "End_Time                 0.000000e+00\n",
              "Start_Lat                0.000000e+00\n",
              "County                   0.000000e+00\n",
              "Amenity                  0.000000e+00\n",
              "Country                  0.000000e+00\n",
              "State                    0.000000e+00\n",
              "Bump                     0.000000e+00\n",
              "Crossing                 0.000000e+00\n",
              "Give_Way                 0.000000e+00\n",
              "Junction                 0.000000e+00\n",
              "Station                  0.000000e+00\n",
              "Roundabout               0.000000e+00\n",
              "Railway                  0.000000e+00\n",
              "No_Exit                  0.000000e+00\n",
              "Turning_Loop             0.000000e+00\n",
              "Traffic_Signal           0.000000e+00\n",
              "Traffic_Calming          0.000000e+00\n",
              "Stop                     0.000000e+00\n",
              "dtype: float64"
            ],
            "text/html": [
              "<div>\n",
              "<style scoped>\n",
              "    .dataframe tbody tr th:only-of-type {\n",
              "        vertical-align: middle;\n",
              "    }\n",
              "\n",
              "    .dataframe tbody tr th {\n",
              "        vertical-align: top;\n",
              "    }\n",
              "\n",
              "    .dataframe thead th {\n",
              "        text-align: right;\n",
              "    }\n",
              "</style>\n",
              "<table border=\"1\" class=\"dataframe\">\n",
              "  <thead>\n",
              "    <tr style=\"text-align: right;\">\n",
              "      <th></th>\n",
              "      <th>0</th>\n",
              "    </tr>\n",
              "  </thead>\n",
              "  <tbody>\n",
              "    <tr>\n",
              "      <th>End_Lng</th>\n",
              "      <td>4.402935e-01</td>\n",
              "    </tr>\n",
              "    <tr>\n",
              "      <th>End_Lat</th>\n",
              "      <td>4.402935e-01</td>\n",
              "    </tr>\n",
              "    <tr>\n",
              "      <th>Precipitation(in)</th>\n",
              "      <td>2.851286e-01</td>\n",
              "    </tr>\n",
              "    <tr>\n",
              "      <th>Wind_Chill(F)</th>\n",
              "      <td>2.586590e-01</td>\n",
              "    </tr>\n",
              "    <tr>\n",
              "      <th>Wind_Speed(mph)</th>\n",
              "      <td>7.391355e-02</td>\n",
              "    </tr>\n",
              "    <tr>\n",
              "      <th>Visibility(mi)</th>\n",
              "      <td>2.291524e-02</td>\n",
              "    </tr>\n",
              "    <tr>\n",
              "      <th>Wind_Direction</th>\n",
              "      <td>2.267043e-02</td>\n",
              "    </tr>\n",
              "    <tr>\n",
              "      <th>Humidity(%)</th>\n",
              "      <td>2.253301e-02</td>\n",
              "    </tr>\n",
              "    <tr>\n",
              "      <th>Weather_Condition</th>\n",
              "      <td>2.244438e-02</td>\n",
              "    </tr>\n",
              "    <tr>\n",
              "      <th>Temperature(F)</th>\n",
              "      <td>2.120143e-02</td>\n",
              "    </tr>\n",
              "    <tr>\n",
              "      <th>Pressure(in)</th>\n",
              "      <td>1.820288e-02</td>\n",
              "    </tr>\n",
              "    <tr>\n",
              "      <th>Weather_Timestamp</th>\n",
              "      <td>1.555666e-02</td>\n",
              "    </tr>\n",
              "    <tr>\n",
              "      <th>Sunrise_Sunset</th>\n",
              "      <td>3.007869e-03</td>\n",
              "    </tr>\n",
              "    <tr>\n",
              "      <th>Civil_Twilight</th>\n",
              "      <td>3.007869e-03</td>\n",
              "    </tr>\n",
              "    <tr>\n",
              "      <th>Astronomical_Twilight</th>\n",
              "      <td>3.007869e-03</td>\n",
              "    </tr>\n",
              "    <tr>\n",
              "      <th>Nautical_Twilight</th>\n",
              "      <td>3.007869e-03</td>\n",
              "    </tr>\n",
              "    <tr>\n",
              "      <th>Airport_Code</th>\n",
              "      <td>2.928810e-03</td>\n",
              "    </tr>\n",
              "    <tr>\n",
              "      <th>Street</th>\n",
              "      <td>1.406372e-03</td>\n",
              "    </tr>\n",
              "    <tr>\n",
              "      <th>Timezone</th>\n",
              "      <td>1.010300e-03</td>\n",
              "    </tr>\n",
              "    <tr>\n",
              "      <th>Zipcode</th>\n",
              "      <td>2.477876e-04</td>\n",
              "    </tr>\n",
              "    <tr>\n",
              "      <th>City</th>\n",
              "      <td>3.273643e-05</td>\n",
              "    </tr>\n",
              "    <tr>\n",
              "      <th>Description</th>\n",
              "      <td>6.469649e-07</td>\n",
              "    </tr>\n",
              "    <tr>\n",
              "      <th>ID</th>\n",
              "      <td>0.000000e+00</td>\n",
              "    </tr>\n",
              "    <tr>\n",
              "      <th>Distance(mi)</th>\n",
              "      <td>0.000000e+00</td>\n",
              "    </tr>\n",
              "    <tr>\n",
              "      <th>Start_Lng</th>\n",
              "      <td>0.000000e+00</td>\n",
              "    </tr>\n",
              "    <tr>\n",
              "      <th>Source</th>\n",
              "      <td>0.000000e+00</td>\n",
              "    </tr>\n",
              "    <tr>\n",
              "      <th>Severity</th>\n",
              "      <td>0.000000e+00</td>\n",
              "    </tr>\n",
              "    <tr>\n",
              "      <th>Start_Time</th>\n",
              "      <td>0.000000e+00</td>\n",
              "    </tr>\n",
              "    <tr>\n",
              "      <th>End_Time</th>\n",
              "      <td>0.000000e+00</td>\n",
              "    </tr>\n",
              "    <tr>\n",
              "      <th>Start_Lat</th>\n",
              "      <td>0.000000e+00</td>\n",
              "    </tr>\n",
              "    <tr>\n",
              "      <th>County</th>\n",
              "      <td>0.000000e+00</td>\n",
              "    </tr>\n",
              "    <tr>\n",
              "      <th>Amenity</th>\n",
              "      <td>0.000000e+00</td>\n",
              "    </tr>\n",
              "    <tr>\n",
              "      <th>Country</th>\n",
              "      <td>0.000000e+00</td>\n",
              "    </tr>\n",
              "    <tr>\n",
              "      <th>State</th>\n",
              "      <td>0.000000e+00</td>\n",
              "    </tr>\n",
              "    <tr>\n",
              "      <th>Bump</th>\n",
              "      <td>0.000000e+00</td>\n",
              "    </tr>\n",
              "    <tr>\n",
              "      <th>Crossing</th>\n",
              "      <td>0.000000e+00</td>\n",
              "    </tr>\n",
              "    <tr>\n",
              "      <th>Give_Way</th>\n",
              "      <td>0.000000e+00</td>\n",
              "    </tr>\n",
              "    <tr>\n",
              "      <th>Junction</th>\n",
              "      <td>0.000000e+00</td>\n",
              "    </tr>\n",
              "    <tr>\n",
              "      <th>Station</th>\n",
              "      <td>0.000000e+00</td>\n",
              "    </tr>\n",
              "    <tr>\n",
              "      <th>Roundabout</th>\n",
              "      <td>0.000000e+00</td>\n",
              "    </tr>\n",
              "    <tr>\n",
              "      <th>Railway</th>\n",
              "      <td>0.000000e+00</td>\n",
              "    </tr>\n",
              "    <tr>\n",
              "      <th>No_Exit</th>\n",
              "      <td>0.000000e+00</td>\n",
              "    </tr>\n",
              "    <tr>\n",
              "      <th>Turning_Loop</th>\n",
              "      <td>0.000000e+00</td>\n",
              "    </tr>\n",
              "    <tr>\n",
              "      <th>Traffic_Signal</th>\n",
              "      <td>0.000000e+00</td>\n",
              "    </tr>\n",
              "    <tr>\n",
              "      <th>Traffic_Calming</th>\n",
              "      <td>0.000000e+00</td>\n",
              "    </tr>\n",
              "    <tr>\n",
              "      <th>Stop</th>\n",
              "      <td>0.000000e+00</td>\n",
              "    </tr>\n",
              "  </tbody>\n",
              "</table>\n",
              "</div><br><label><b>dtype:</b> float64</label>"
            ]
          },
          "metadata": {},
          "execution_count": 34
        }
      ],
      "source": [
        "missing_percentages = df.isnull().sum().sort_values(ascending = False) /len(df)\n",
        "missing_percentages"
      ]
    },
    {
      "cell_type": "code",
      "execution_count": 35,
      "metadata": {
        "execution": {
          "iopub.execute_input": "2025-02-04T05:34:40.338406Z",
          "iopub.status.busy": "2025-02-04T05:34:40.338128Z",
          "iopub.status.idle": "2025-02-04T05:34:40.344773Z",
          "shell.execute_reply": "2025-02-04T05:34:40.343559Z",
          "shell.execute_reply.started": "2025-02-04T05:34:40.338383Z"
        },
        "id": "6U4vwq-RvMgN",
        "outputId": "4a35d65f-6294-4e6b-bcf3-522bb31ff252",
        "colab": {
          "base_uri": "https://localhost:8080/",
          "height": 204
        }
      },
      "outputs": [
        {
          "output_type": "execute_result",
          "data": {
            "text/plain": [
              "pandas.core.series.Series"
            ],
            "text/html": [
              "<div style=\"max-width:800px; border: 1px solid var(--colab-border-color);\"><style>\n",
              "      pre.function-repr-contents {\n",
              "        overflow-x: auto;\n",
              "        padding: 8px 12px;\n",
              "        max-height: 500px;\n",
              "      }\n",
              "\n",
              "      pre.function-repr-contents.function-repr-contents-collapsed {\n",
              "        cursor: pointer;\n",
              "        max-height: 100px;\n",
              "      }\n",
              "    </style>\n",
              "    <pre style=\"white-space: initial; background:\n",
              "         var(--colab-secondary-surface-color); padding: 8px 12px;\n",
              "         border-bottom: 1px solid var(--colab-border-color);\"><b>pandas.core.series.Series</b><br/>def __init__(data=None, index=None, dtype: Dtype | None=None, name=None, copy: bool | None=None, fastpath: bool | lib.NoDefault=lib.no_default) -&gt; None</pre><pre class=\"function-repr-contents function-repr-contents-collapsed\" style=\"\"><a class=\"filepath\" style=\"display:none\" href=\"#\">/usr/local/lib/python3.11/dist-packages/pandas/core/series.py</a>One-dimensional ndarray with axis labels (including time series).\n",
              "\n",
              "Labels need not be unique but must be a hashable type. The object\n",
              "supports both integer- and label-based indexing and provides a host of\n",
              "methods for performing operations involving the index. Statistical\n",
              "methods from ndarray have been overridden to automatically exclude\n",
              "missing data (currently represented as NaN).\n",
              "\n",
              "Operations between Series (+, -, /, \\*, \\*\\*) align values based on their\n",
              "associated index values-- they need not be the same length. The result\n",
              "index will be the sorted union of the two indexes.\n",
              "\n",
              "Parameters\n",
              "----------\n",
              "data : array-like, Iterable, dict, or scalar value\n",
              "    Contains data stored in Series. If data is a dict, argument order is\n",
              "    maintained.\n",
              "index : array-like or Index (1d)\n",
              "    Values must be hashable and have the same length as `data`.\n",
              "    Non-unique index values are allowed. Will default to\n",
              "    RangeIndex (0, 1, 2, ..., n) if not provided. If data is dict-like\n",
              "    and index is None, then the keys in the data are used as the index. If the\n",
              "    index is not None, the resulting Series is reindexed with the index values.\n",
              "dtype : str, numpy.dtype, or ExtensionDtype, optional\n",
              "    Data type for the output Series. If not specified, this will be\n",
              "    inferred from `data`.\n",
              "    See the :ref:`user guide &lt;basics.dtypes&gt;` for more usages.\n",
              "name : Hashable, default None\n",
              "    The name to give to the Series.\n",
              "copy : bool, default False\n",
              "    Copy input data. Only affects Series or 1d ndarray input. See examples.\n",
              "\n",
              "Notes\n",
              "-----\n",
              "Please reference the :ref:`User Guide &lt;basics.series&gt;` for more information.\n",
              "\n",
              "Examples\n",
              "--------\n",
              "Constructing Series from a dictionary with an Index specified\n",
              "\n",
              "&gt;&gt;&gt; d = {&#x27;a&#x27;: 1, &#x27;b&#x27;: 2, &#x27;c&#x27;: 3}\n",
              "&gt;&gt;&gt; ser = pd.Series(data=d, index=[&#x27;a&#x27;, &#x27;b&#x27;, &#x27;c&#x27;])\n",
              "&gt;&gt;&gt; ser\n",
              "a   1\n",
              "b   2\n",
              "c   3\n",
              "dtype: int64\n",
              "\n",
              "The keys of the dictionary match with the Index values, hence the Index\n",
              "values have no effect.\n",
              "\n",
              "&gt;&gt;&gt; d = {&#x27;a&#x27;: 1, &#x27;b&#x27;: 2, &#x27;c&#x27;: 3}\n",
              "&gt;&gt;&gt; ser = pd.Series(data=d, index=[&#x27;x&#x27;, &#x27;y&#x27;, &#x27;z&#x27;])\n",
              "&gt;&gt;&gt; ser\n",
              "x   NaN\n",
              "y   NaN\n",
              "z   NaN\n",
              "dtype: float64\n",
              "\n",
              "Note that the Index is first build with the keys from the dictionary.\n",
              "After this the Series is reindexed with the given Index values, hence we\n",
              "get all NaN as a result.\n",
              "\n",
              "Constructing Series from a list with `copy=False`.\n",
              "\n",
              "&gt;&gt;&gt; r = [1, 2]\n",
              "&gt;&gt;&gt; ser = pd.Series(r, copy=False)\n",
              "&gt;&gt;&gt; ser.iloc[0] = 999\n",
              "&gt;&gt;&gt; r\n",
              "[1, 2]\n",
              "&gt;&gt;&gt; ser\n",
              "0    999\n",
              "1      2\n",
              "dtype: int64\n",
              "\n",
              "Due to input data type the Series has a `copy` of\n",
              "the original data even though `copy=False`, so\n",
              "the data is unchanged.\n",
              "\n",
              "Constructing Series from a 1d ndarray with `copy=False`.\n",
              "\n",
              "&gt;&gt;&gt; r = np.array([1, 2])\n",
              "&gt;&gt;&gt; ser = pd.Series(r, copy=False)\n",
              "&gt;&gt;&gt; ser.iloc[0] = 999\n",
              "&gt;&gt;&gt; r\n",
              "array([999,   2])\n",
              "&gt;&gt;&gt; ser\n",
              "0    999\n",
              "1      2\n",
              "dtype: int64\n",
              "\n",
              "Due to input data type the Series has a `view` on\n",
              "the original data, so\n",
              "the data is changed as well.</pre>\n",
              "      <script>\n",
              "      if (google.colab.kernel.accessAllowed && google.colab.files && google.colab.files.view) {\n",
              "        for (const element of document.querySelectorAll('.filepath')) {\n",
              "          element.style.display = 'block'\n",
              "          element.onclick = (event) => {\n",
              "            event.preventDefault();\n",
              "            event.stopPropagation();\n",
              "            google.colab.files.view(element.textContent, 263);\n",
              "          };\n",
              "        }\n",
              "      }\n",
              "      for (const element of document.querySelectorAll('.function-repr-contents')) {\n",
              "        element.onclick = (event) => {\n",
              "          event.preventDefault();\n",
              "          event.stopPropagation();\n",
              "          element.classList.toggle('function-repr-contents-collapsed');\n",
              "        };\n",
              "      }\n",
              "      </script>\n",
              "      </div>"
            ]
          },
          "metadata": {},
          "execution_count": 35
        }
      ],
      "source": [
        "type(missing_percentages)"
      ]
    },
    {
      "cell_type": "markdown",
      "source": [],
      "metadata": {
        "id": "_lmrHuWsARpe"
      }
    },
    {
      "cell_type": "code",
      "execution_count": 36,
      "metadata": {
        "execution": {
          "iopub.execute_input": "2025-02-04T05:34:40.34621Z",
          "iopub.status.busy": "2025-02-04T05:34:40.345878Z",
          "iopub.status.idle": "2025-02-04T05:34:40.931531Z",
          "shell.execute_reply": "2025-02-04T05:34:40.930421Z",
          "shell.execute_reply.started": "2025-02-04T05:34:40.346184Z"
        },
        "id": "3wtdhztsBR1X",
        "outputId": "d2388990-74dd-4384-907a-d69243cc700f",
        "colab": {
          "base_uri": "https://localhost:8080/",
          "height": 430
        }
      },
      "outputs": [
        {
          "output_type": "display_data",
          "data": {
            "text/plain": [
              "<Figure size 640x480 with 1 Axes>"
            ],
            "image/png": "[encoded data removed]"
          },
          "metadata": {}
        }
      ],
      "source": [
        "filtered_data=missing_percentages[missing_percentages != 0].plot(kind='barh',color='orange')"
      ]
    },
    {
      "cell_type": "markdown",
      "metadata": {
        "id": "CnmQT5GzvMgO"
      },
      "source": [
        "<h3>Remove Columns that isn't in use</h3>"
      ]
    },
    {
      "cell_type": "markdown",
      "metadata": {
        "id": "ase9x2qkvMgP"
      },
      "source": [
        "## Exploratory Analysis and Visualization\n",
        "\n",
        "1. Columns we'll analyze -\n",
        "   1. Start_Time\n",
        "   2. Start_Lat & Start_LNG\n",
        "   3. City\n",
        "   4. Temprature\n",
        "   5. Weather Condition\n",
        "   6. Crosing"
      ]
    },
    {
      "cell_type": "code",
      "execution_count": 37,
      "metadata": {
        "execution": {
          "iopub.execute_input": "2025-02-04T05:34:40.932851Z",
          "iopub.status.busy": "2025-02-04T05:34:40.932537Z",
          "iopub.status.idle": "2025-02-04T05:34:40.938742Z",
          "shell.execute_reply": "2025-02-04T05:34:40.93793Z",
          "shell.execute_reply.started": "2025-02-04T05:34:40.932802Z"
        },
        "id": "iUX9l749vMgP",
        "outputId": "c6dbc924-bfed-438f-98b0-a00b7e73da55",
        "colab": {
          "base_uri": "https://localhost:8080/"
        }
      },
      "outputs": [
        {
          "output_type": "execute_result",
          "data": {
            "text/plain": [
              "Index(['ID', 'Source', 'Severity', 'Start_Time', 'End_Time', 'Start_Lat',\n",
              "       'Start_Lng', 'End_Lat', 'End_Lng', 'Distance(mi)', 'Description',\n",
              "       'Street', 'City', 'County', 'State', 'Zipcode', 'Country', 'Timezone',\n",
              "       'Airport_Code', 'Weather_Timestamp', 'Temperature(F)', 'Wind_Chill(F)',\n",
              "       'Humidity(%)', 'Pressure(in)', 'Visibility(mi)', 'Wind_Direction',\n",
              "       'Wind_Speed(mph)', 'Precipitation(in)', 'Weather_Condition', 'Amenity',\n",
              "       'Bump', 'Crossing', 'Give_Way', 'Junction', 'No_Exit', 'Railway',\n",
              "       'Roundabout', 'Station', 'Stop', 'Traffic_Calming', 'Traffic_Signal',\n",
              "       'Turning_Loop', 'Sunrise_Sunset', 'Civil_Twilight', 'Nautical_Twilight',\n",
              "       'Astronomical_Twilight'],\n",
              "      dtype='object')"
            ]
          },
          "metadata": {},
          "execution_count": 37
        }
      ],
      "source": [
        "df.columns"
      ]
    },
    {
      "cell_type": "code",
      "execution_count": 38,
      "metadata": {
        "execution": {
          "iopub.execute_input": "2025-02-04T05:34:40.940135Z",
          "iopub.status.busy": "2025-02-04T05:34:40.939789Z",
          "iopub.status.idle": "2025-02-04T05:34:40.9593Z",
          "shell.execute_reply": "2025-02-04T05:34:40.958116Z",
          "shell.execute_reply.started": "2025-02-04T05:34:40.940107Z"
        },
        "id": "ohySl5g8vMgQ",
        "outputId": "6840e7fc-9697-4eee-e4dd-a573d7754596",
        "colab": {
          "base_uri": "https://localhost:8080/",
          "height": 458
        }
      },
      "outputs": [
        {
          "output_type": "execute_result",
          "data": {
            "text/plain": [
              "0                Dayton\n",
              "1          Reynoldsburg\n",
              "2          Williamsburg\n",
              "3                Dayton\n",
              "4                Dayton\n",
              "               ...     \n",
              "7728389       Riverside\n",
              "7728390       San Diego\n",
              "7728391          Orange\n",
              "7728392     Culver City\n",
              "7728393        Highland\n",
              "Name: City, Length: 7728394, dtype: object"
            ],
            "text/html": [
              "<div>\n",
              "<style scoped>\n",
              "    .dataframe tbody tr th:only-of-type {\n",
              "        vertical-align: middle;\n",
              "    }\n",
              "\n",
              "    .dataframe tbody tr th {\n",
              "        vertical-align: top;\n",
              "    }\n",
              "\n",
              "    .dataframe thead th {\n",
              "        text-align: right;\n",
              "    }\n",
              "</style>\n",
              "<table border=\"1\" class=\"dataframe\">\n",
              "  <thead>\n",
              "    <tr style=\"text-align: right;\">\n",
              "      <th></th>\n",
              "      <th>City</th>\n",
              "    </tr>\n",
              "  </thead>\n",
              "  <tbody>\n",
              "    <tr>\n",
              "      <th>0</th>\n",
              "      <td>Dayton</td>\n",
              "    </tr>\n",
              "    <tr>\n",
              "      <th>1</th>\n",
              "      <td>Reynoldsburg</td>\n",
              "    </tr>\n",
              "    <tr>\n",
              "      <th>2</th>\n",
              "      <td>Williamsburg</td>\n",
              "    </tr>\n",
              "    <tr>\n",
              "      <th>3</th>\n",
              "      <td>Dayton</td>\n",
              "    </tr>\n",
              "    <tr>\n",
              "      <th>4</th>\n",
              "      <td>Dayton</td>\n",
              "    </tr>\n",
              "    <tr>\n",
              "      <th>...</th>\n",
              "      <td>...</td>\n",
              "    </tr>\n",
              "    <tr>\n",
              "      <th>7728389</th>\n",
              "      <td>Riverside</td>\n",
              "    </tr>\n",
              "    <tr>\n",
              "      <th>7728390</th>\n",
              "      <td>San Diego</td>\n",
              "    </tr>\n",
              "    <tr>\n",
              "      <th>7728391</th>\n",
              "      <td>Orange</td>\n",
              "    </tr>\n",
              "    <tr>\n",
              "      <th>7728392</th>\n",
              "      <td>Culver City</td>\n",
              "    </tr>\n",
              "    <tr>\n",
              "      <th>7728393</th>\n",
              "      <td>Highland</td>\n",
              "    </tr>\n",
              "  </tbody>\n",
              "</table>\n",
              "<p>7728394 rows × 1 columns</p>\n",
              "</div><br><label><b>dtype:</b> object</label>"
            ]
          },
          "metadata": {},
          "execution_count": 38
        }
      ],
      "source": [
        "df.City"
      ]
    },
    {
      "cell_type": "code",
      "execution_count": 39,
      "metadata": {
        "execution": {
          "iopub.execute_input": "2025-02-04T05:34:40.960652Z",
          "iopub.status.busy": "2025-02-04T05:34:40.960373Z",
          "iopub.status.idle": "2025-02-04T05:34:41.510891Z",
          "shell.execute_reply": "2025-02-04T05:34:41.509857Z",
          "shell.execute_reply.started": "2025-02-04T05:34:40.96063Z"
        },
        "id": "s_cQUWZcvMgQ",
        "outputId": "e8f10e3c-5a68-4e3d-98f2-a2870fd42f9b",
        "colab": {
          "base_uri": "https://localhost:8080/"
        }
      },
      "outputs": [
        {
          "output_type": "execute_result",
          "data": {
            "text/plain": [
              "array(['Dayton', 'Reynoldsburg', 'Williamsburg', 'Westerville',\n",
              "       'Columbus', 'Miamisburg', 'Johnstown', 'Dublin',\n",
              "       'Canal Winchester', 'Lebanon', 'Sabina', 'Goshen', 'Waynesville',\n",
              "       'Springboro', 'Carroll', 'Oregonia', 'Independence',\n",
              "       'Maple Heights', 'Grove City', 'Findlay', 'Fairborn', 'Piqua',\n",
              "       'New Richmond', 'Batavia', 'Galena', 'Barberton', 'Akron',\n",
              "       'Mansfield', 'Cleveland', 'Bethel', 'Pataskala', 'Seville',\n",
              "       'Bellville', 'Troy', 'Wilmington', 'North Olmsted', 'Groveport',\n",
              "       'Orient', 'Tiro', 'Strongsville', 'Beavercreek', 'Circleville',\n",
              "       'Peebles', 'Hurricane', 'Xenia', 'Elyria', 'Pickerington',\n",
              "       'Burbank', 'Zanesville', 'North Baltimore', 'Mount Sterling',\n",
              "       'Tipp City', 'Moraine', 'Hilliard', 'Bowling Green', 'Maineville',\n",
              "       'Vermilion', 'Milford', 'Brookpark', 'Fraziers Bottom',\n",
              "       'Cambridge', 'Delaware', 'Moscow', 'Oberlin', 'Sardinia',\n",
              "       'Lewis Center', 'Urbancrest', 'Brecksville', 'Frankfort',\n",
              "       'Blanchester', 'Casstown', 'Lima', 'Amelia', 'Newark',\n",
              "       'Springfield', 'Vandalia', 'Galloway', 'Bloomingburg',\n",
              "       'Gallipolis', 'Lockbourne', 'Milan', 'Mason', 'Millersport',\n",
              "       'New Carlisle', 'Sunbury', 'Owensville', 'London', 'Vallejo',\n",
              "       'Hayward', 'Walnut Creek', 'Cupertino', 'San Jose', 'Pleasanton',\n",
              "       'San Francisco', 'Orinda', 'Livermore', 'Cotati', 'Concord',\n",
              "       'Sunnyvale', 'Sacramento'], dtype=object)"
            ]
          },
          "metadata": {},
          "execution_count": 39
        }
      ],
      "source": [
        "cities = df.City.unique()\n",
        "cities[:100]"
      ]
    },
    {
      "cell_type": "code",
      "execution_count": 40,
      "metadata": {
        "execution": {
          "iopub.execute_input": "2025-02-04T05:34:41.512168Z",
          "iopub.status.busy": "2025-02-04T05:34:41.511868Z",
          "iopub.status.idle": "2025-02-04T05:34:42.315247Z",
          "shell.execute_reply": "2025-02-04T05:34:42.314194Z",
          "shell.execute_reply.started": "2025-02-04T05:34:41.512144Z"
        },
        "id": "-zeX0Eb7vMgQ",
        "outputId": "535fcc80-580f-41d8-9d99-4b987bdc294c",
        "colab": {
          "base_uri": "https://localhost:8080/",
          "height": 490
        }
      },
      "outputs": [
        {
          "output_type": "execute_result",
          "data": {
            "text/plain": [
              "City\n",
              "Miami            186917\n",
              "Houston          169609\n",
              "Los Angeles      156491\n",
              "Charlotte        138652\n",
              "Dallas           130939\n",
              "                  ...  \n",
              "Rapid River           1\n",
              "Cat Spring            1\n",
              "Glenwood City         1\n",
              "Downing               1\n",
              "Marfa                 1\n",
              "Name: count, Length: 13678, dtype: int64"
            ],
            "text/html": [
              "<div>\n",
              "<style scoped>\n",
              "    .dataframe tbody tr th:only-of-type {\n",
              "        vertical-align: middle;\n",
              "    }\n",
              "\n",
              "    .dataframe tbody tr th {\n",
              "        vertical-align: top;\n",
              "    }\n",
              "\n",
              "    .dataframe thead th {\n",
              "        text-align: right;\n",
              "    }\n",
              "</style>\n",
              "<table border=\"1\" class=\"dataframe\">\n",
              "  <thead>\n",
              "    <tr style=\"text-align: right;\">\n",
              "      <th></th>\n",
              "      <th>count</th>\n",
              "    </tr>\n",
              "    <tr>\n",
              "      <th>City</th>\n",
              "      <th></th>\n",
              "    </tr>\n",
              "  </thead>\n",
              "  <tbody>\n",
              "    <tr>\n",
              "      <th>Miami</th>\n",
              "      <td>186917</td>\n",
              "    </tr>\n",
              "    <tr>\n",
              "      <th>Houston</th>\n",
              "      <td>169609</td>\n",
              "    </tr>\n",
              "    <tr>\n",
              "      <th>Los Angeles</th>\n",
              "      <td>156491</td>\n",
              "    </tr>\n",
              "    <tr>\n",
              "      <th>Charlotte</th>\n",
              "      <td>138652</td>\n",
              "    </tr>\n",
              "    <tr>\n",
              "      <th>Dallas</th>\n",
              "      <td>130939</td>\n",
              "    </tr>\n",
              "    <tr>\n",
              "      <th>...</th>\n",
              "      <td>...</td>\n",
              "    </tr>\n",
              "    <tr>\n",
              "      <th>Rapid River</th>\n",
              "      <td>1</td>\n",
              "    </tr>\n",
              "    <tr>\n",
              "      <th>Cat Spring</th>\n",
              "      <td>1</td>\n",
              "    </tr>\n",
              "    <tr>\n",
              "      <th>Glenwood City</th>\n",
              "      <td>1</td>\n",
              "    </tr>\n",
              "    <tr>\n",
              "      <th>Downing</th>\n",
              "      <td>1</td>\n",
              "    </tr>\n",
              "    <tr>\n",
              "      <th>Marfa</th>\n",
              "      <td>1</td>\n",
              "    </tr>\n",
              "  </tbody>\n",
              "</table>\n",
              "<p>13678 rows × 1 columns</p>\n",
              "</div><br><label><b>dtype:</b> int64</label>"
            ]
          },
          "metadata": {},
          "execution_count": 40
        }
      ],
      "source": [
        "cities_by_accident = df.City.value_counts(ascending = False)\n",
        "cities_by_accident"
      ]
    },
    {
      "cell_type": "code",
      "execution_count": 100,
      "metadata": {
        "execution": {
          "iopub.execute_input": "2025-02-04T05:34:42.316665Z",
          "iopub.status.busy": "2025-02-04T05:34:42.316361Z",
          "iopub.status.idle": "2025-02-04T05:34:42.533765Z",
          "shell.execute_reply": "2025-02-04T05:34:42.532789Z",
          "shell.execute_reply.started": "2025-02-04T05:34:42.31664Z"
        },
        "id": "3reG-DhRvMgR",
        "outputId": "70c20d02-3c18-4f91-c647-839a52466fc7",
        "colab": {
          "base_uri": "https://localhost:8080/",
          "height": 407
        }
      },
      "outputs": [
        {
          "output_type": "display_data",
          "data": {
            "text/plain": [
              "<Figure size 600x400 with 1 Axes>"
            ],
            "image/png": "[encoded data removed]"
          },
          "metadata": {}
        }
      ],
      "source": [
        "# Create the bar plot\n",
        "ax = cities_by_accident[:5].plot(kind='bar', color='red', figsize=(6, 4))\n",
        "\n",
        "# Set the title\n",
        "plt.title(\"Top 5 Cities with Highest Accidents\", fontsize=14, fontweight=\"bold\", color='red')\n",
        "\n",
        "# Rotate x-axis labels by 45 degrees\n",
        "plt.xticks(rotation=45, ha='right')\n",
        "\n",
        "# Add value labels on top of each bar\n",
        "for i, v in enumerate(cities_by_accident[:5]):\n",
        "    ax.text(i, v + (v * 0.01), # Position slightly above bar\n",
        "            f'{v:,}',          # Format with commas for thousands\n",
        "            ha='center',       # Horizontally center\n",
        "            fontweight='bold')\n",
        "\n",
        "# Adjust layout to prevent label cutoff\n",
        "plt.tight_layout()\n",
        "\n",
        "# Show the plot\n",
        "plt.show()"
      ]
    },
    {
      "cell_type": "code",
      "execution_count": 106,
      "metadata": {
        "execution": {
          "iopub.execute_input": "2025-02-04T05:34:42.535009Z",
          "iopub.status.busy": "2025-02-04T05:34:42.534696Z",
          "iopub.status.idle": "2025-02-04T05:34:42.859235Z",
          "shell.execute_reply": "2025-02-04T05:34:42.858047Z",
          "shell.execute_reply.started": "2025-02-04T05:34:42.534983Z"
        },
        "id": "xelkVF-P5rPX",
        "outputId": "95a303fe-4927-4e62-f3b2-7d429a20e5c6",
        "colab": {
          "base_uri": "https://localhost:8080/",
          "height": 607
        }
      },
      "outputs": [
        {
          "output_type": "display_data",
          "data": {
            "text/plain": [
              "<Figure size 800x600 with 1 Axes>"
            ],
            "image/png": "[encoded data removed]"
          },
          "metadata": {}
        }
      ],
      "source": [
        "# Create the horizontal bar plot\n",
        "fig, ax = plt.subplots(figsize=(8, 6))  # Increased height to accommodate 20 cities\n",
        "cities_by_accident[:20].plot(kind='barh', color='orange', ax=ax)\n",
        "\n",
        "# Add value labels inside the bars\n",
        "for i, v in enumerate(cities_by_accident[:20]):\n",
        "    # Position the text at 50% of the bar width\n",
        "    text_position = v / 2\n",
        "\n",
        "    # Add the text with white color for better contrast against orange bars\n",
        "    ax.text(text_position, i, f'{v:,}',\n",
        "            va='center',     # Vertically center\n",
        "            ha='center',     # Horizontally center\n",
        "            color='white',   # White text for contrast on orange\n",
        "            fontweight='bold',\n",
        "            fontsize=9)\n",
        "\n",
        "# Add title and labels\n",
        "plt.title(\"Top 20 Cities with Highest Accidents\", fontsize=14, fontweight=\"bold\",color='orange')\n",
        "plt.xlabel(\"Number of Accidents\", fontsize=12)\n",
        "plt.ylabel(\"Cities\", fontsize=12)\n",
        "\n",
        "# Adjust layout to ensure everything fits\n",
        "plt.tight_layout()\n",
        "\n",
        "# Show the plot\n",
        "plt.show()"
      ]
    },
    {
      "cell_type": "markdown",
      "metadata": {
        "id": "nS54YcR6kCEh"
      },
      "source": [
        "### Finding the Ranking of New York"
      ]
    },
    {
      "cell_type": "code",
      "execution_count": 43,
      "metadata": {
        "execution": {
          "iopub.execute_input": "2025-02-04T05:34:42.860703Z",
          "iopub.status.busy": "2025-02-04T05:34:42.860397Z",
          "iopub.status.idle": "2025-02-04T05:34:43.657299Z",
          "shell.execute_reply": "2025-02-04T05:34:43.656258Z",
          "shell.execute_reply.started": "2025-02-04T05:34:42.86067Z"
        },
        "colab": {
          "base_uri": "https://localhost:8080/"
        },
        "id": "Lq0Nkxu9kCEi",
        "outputId": "7bd125d8-0e6a-463d-9fa5-44cfd398db80"
      },
      "outputs": [
        {
          "output_type": "stream",
          "name": "stdout",
          "text": [
            "        City  Accident_Count  Rank\n",
            "44  New York           21699  45.0\n"
          ]
        }
      ],
      "source": [
        "city_ranking = df[\"City\"].value_counts().reset_index()\n",
        "city_ranking.columns = [\"City\", \"Accident_Count\"]\n",
        "\n",
        "# Add ranking\n",
        "city_ranking[\"Rank\"] = city_ranking[\"Accident_Count\"].rank(method=\"dense\", ascending=False)\n",
        "\n",
        "# Sort by rank\n",
        "city_ranking = city_ranking.sort_values(by=\"Rank\")\n",
        "\n",
        "#printing rank\n",
        "ny_rank = city_ranking[city_ranking[\"City\"] == \"New York\"]\n",
        "print(ny_rank)"
      ]
    },
    {
      "cell_type": "code",
      "execution_count": 44,
      "metadata": {
        "execution": {
          "iopub.execute_input": "2025-02-04T05:34:43.658448Z",
          "iopub.status.busy": "2025-02-04T05:34:43.658193Z",
          "iopub.status.idle": "2025-02-04T05:34:44.476906Z",
          "shell.execute_reply": "2025-02-04T05:34:44.475863Z",
          "shell.execute_reply.started": "2025-02-04T05:34:43.658427Z"
        },
        "id": "4coZTcLL5rMB",
        "outputId": "158b94d6-50c2-4496-b8d8-584da261b19f",
        "colab": {
          "base_uri": "https://localhost:8080/"
        }
      },
      "outputs": [
        {
          "output_type": "execute_result",
          "data": {
            "text/plain": [
              "np.int64(21699)"
            ]
          },
          "metadata": {},
          "execution_count": 44
        }
      ],
      "source": [
        "#Checking if New York data shows up in the dataset if yes then how much accidents happened\n",
        "count_new_york = df['City'].value_counts().get('New York', 0)\n",
        "count_new_york"
      ]
    },
    {
      "cell_type": "code",
      "execution_count": 104,
      "metadata": {
        "execution": {
          "iopub.execute_input": "2025-02-04T05:34:44.478453Z",
          "iopub.status.busy": "2025-02-04T05:34:44.478134Z",
          "iopub.status.idle": "2025-02-04T05:34:45.502279Z",
          "shell.execute_reply": "2025-02-04T05:34:45.501002Z",
          "shell.execute_reply.started": "2025-02-04T05:34:44.478428Z"
        },
        "id": "tucN4RIdV0wL",
        "outputId": "a816a5e5-bbb2-4be5-f156-6c02a3183437",
        "colab": {
          "base_uri": "https://localhost:8080/",
          "height": 477
        }
      },
      "outputs": [
        {
          "output_type": "display_data",
          "data": {
            "text/plain": [
              "<Figure size 640x480 with 1 Axes>"
            ],
            "image/png": "[encoded data removed]"
          },
          "metadata": {}
        }
      ],
      "source": [
        "sns.set_style('darkgrid')\n",
        "sns.histplot(cities_by_accident, kde = True, log_scale = True,color='red' )\n",
        "plt.title(\"Cities By Accident\", fontsize = 14, fontweight = \"bold\",color='red')\n",
        "plt.show()"
      ]
    },
    {
      "cell_type": "code",
      "execution_count": 46,
      "metadata": {
        "execution": {
          "iopub.execute_input": "2025-02-04T05:34:45.507251Z",
          "iopub.status.busy": "2025-02-04T05:34:45.50692Z",
          "iopub.status.idle": "2025-02-04T05:34:45.517231Z",
          "shell.execute_reply": "2025-02-04T05:34:45.516022Z",
          "shell.execute_reply.started": "2025-02-04T05:34:45.507228Z"
        },
        "colab": {
          "base_uri": "https://localhost:8080/",
          "height": 490
        },
        "id": "BRqZD0d6kCEj",
        "outputId": "928b0dac-80ad-4a1c-9265-86ec46bf9869"
      },
      "outputs": [
        {
          "output_type": "execute_result",
          "data": {
            "text/plain": [
              "City\n",
              "American Fork-Pleasant Grove    1\n",
              "Waldoboro                       1\n",
              "Kinsley                         1\n",
              "Killona                         1\n",
              "Jeanerette                      1\n",
              "                               ..\n",
              "Rapid River                     1\n",
              "Cat Spring                      1\n",
              "Glenwood City                   1\n",
              "Downing                         1\n",
              "Marfa                           1\n",
              "Name: count, Length: 1023, dtype: int64"
            ],
            "text/html": [
              "<div>\n",
              "<style scoped>\n",
              "    .dataframe tbody tr th:only-of-type {\n",
              "        vertical-align: middle;\n",
              "    }\n",
              "\n",
              "    .dataframe tbody tr th {\n",
              "        vertical-align: top;\n",
              "    }\n",
              "\n",
              "    .dataframe thead th {\n",
              "        text-align: right;\n",
              "    }\n",
              "</style>\n",
              "<table border=\"1\" class=\"dataframe\">\n",
              "  <thead>\n",
              "    <tr style=\"text-align: right;\">\n",
              "      <th></th>\n",
              "      <th>count</th>\n",
              "    </tr>\n",
              "    <tr>\n",
              "      <th>City</th>\n",
              "      <th></th>\n",
              "    </tr>\n",
              "  </thead>\n",
              "  <tbody>\n",
              "    <tr>\n",
              "      <th>American Fork-Pleasant Grove</th>\n",
              "      <td>1</td>\n",
              "    </tr>\n",
              "    <tr>\n",
              "      <th>Waldoboro</th>\n",
              "      <td>1</td>\n",
              "    </tr>\n",
              "    <tr>\n",
              "      <th>Kinsley</th>\n",
              "      <td>1</td>\n",
              "    </tr>\n",
              "    <tr>\n",
              "      <th>Killona</th>\n",
              "      <td>1</td>\n",
              "    </tr>\n",
              "    <tr>\n",
              "      <th>Jeanerette</th>\n",
              "      <td>1</td>\n",
              "    </tr>\n",
              "    <tr>\n",
              "      <th>...</th>\n",
              "      <td>...</td>\n",
              "    </tr>\n",
              "    <tr>\n",
              "      <th>Rapid River</th>\n",
              "      <td>1</td>\n",
              "    </tr>\n",
              "    <tr>\n",
              "      <th>Cat Spring</th>\n",
              "      <td>1</td>\n",
              "    </tr>\n",
              "    <tr>\n",
              "      <th>Glenwood City</th>\n",
              "      <td>1</td>\n",
              "    </tr>\n",
              "    <tr>\n",
              "      <th>Downing</th>\n",
              "      <td>1</td>\n",
              "    </tr>\n",
              "    <tr>\n",
              "      <th>Marfa</th>\n",
              "      <td>1</td>\n",
              "    </tr>\n",
              "  </tbody>\n",
              "</table>\n",
              "<p>1023 rows × 1 columns</p>\n",
              "</div><br><label><b>dtype:</b> int64</label>"
            ]
          },
          "metadata": {},
          "execution_count": 46
        }
      ],
      "source": [
        "# .count doesn't add null values df[\"City\"].count()\n",
        "# len add null values as well len(df['City'])\n",
        "cities_by_accident[cities_by_accident == 1]"
      ]
    },
    {
      "cell_type": "code",
      "execution_count": 47,
      "metadata": {
        "execution": {
          "iopub.execute_input": "2025-02-04T05:34:45.519499Z",
          "iopub.status.busy": "2025-02-04T05:34:45.519183Z",
          "iopub.status.idle": "2025-02-04T05:34:45.542073Z",
          "shell.execute_reply": "2025-02-04T05:34:45.540732Z",
          "shell.execute_reply.started": "2025-02-04T05:34:45.519475Z"
        },
        "id": "wZ1rXkJlV0oS"
      },
      "outputs": [],
      "source": [
        "high_accident_citites = cities_by_accident[cities_by_accident >= 2000]\n",
        "low_accident_cities = cities_by_accident[cities_by_accident < 2000]"
      ]
    },
    {
      "cell_type": "code",
      "execution_count": 48,
      "metadata": {
        "execution": {
          "iopub.execute_input": "2025-02-04T05:34:45.543983Z",
          "iopub.status.busy": "2025-02-04T05:34:45.543509Z",
          "iopub.status.idle": "2025-02-04T05:34:45.56581Z",
          "shell.execute_reply": "2025-02-04T05:34:45.564456Z",
          "shell.execute_reply.started": "2025-02-04T05:34:45.543939Z"
        },
        "id": "Aj08kAO11XaG",
        "outputId": "b8db3f9f-3792-46fe-d23b-9ac525dd5a55",
        "colab": {
          "base_uri": "https://localhost:8080/"
        }
      },
      "outputs": [
        {
          "output_type": "execute_result",
          "data": {
            "text/plain": [
              "0.04744845737680947"
            ]
          },
          "metadata": {},
          "execution_count": 48
        }
      ],
      "source": [
        "len(high_accident_citites)/len(cities_by_accident)"
      ]
    },
    {
      "cell_type": "code",
      "execution_count": 49,
      "metadata": {
        "execution": {
          "iopub.execute_input": "2025-02-04T05:34:45.567395Z",
          "iopub.status.busy": "2025-02-04T05:34:45.56709Z",
          "iopub.status.idle": "2025-02-04T05:34:45.589142Z",
          "shell.execute_reply": "2025-02-04T05:34:45.588123Z",
          "shell.execute_reply.started": "2025-02-04T05:34:45.56737Z"
        },
        "id": "Nl1r__KW1iFx",
        "outputId": "62c9a876-488a-409c-8eb1-fb148fb77dbd",
        "colab": {
          "base_uri": "https://localhost:8080/"
        }
      },
      "outputs": [
        {
          "output_type": "execute_result",
          "data": {
            "text/plain": [
              "0.9525515426231905"
            ]
          },
          "metadata": {},
          "execution_count": 49
        }
      ],
      "source": [
        "len(low_accident_cities)/len(cities_by_accident)"
      ]
    },
    {
      "cell_type": "code",
      "execution_count": 103,
      "metadata": {
        "execution": {
          "iopub.execute_input": "2025-02-04T05:34:45.590527Z",
          "iopub.status.busy": "2025-02-04T05:34:45.590175Z",
          "iopub.status.idle": "2025-02-04T05:34:46.178004Z",
          "shell.execute_reply": "2025-02-04T05:34:46.176929Z",
          "shell.execute_reply.started": "2025-02-04T05:34:45.590501Z"
        },
        "id": "5leD99CaV0jJ",
        "outputId": "79061e7b-8bfa-4697-8f57-038b0e4c4a30",
        "colab": {
          "base_uri": "https://localhost:8080/",
          "height": 477
        }
      },
      "outputs": [
        {
          "output_type": "display_data",
          "data": {
            "text/plain": [
              "<Figure size 640x480 with 1 Axes>"
            ],
            "image/png": "[encoded data removed]"
          },
          "metadata": {}
        }
      ],
      "source": [
        "len(high_accident_citites)/len(cities_by_accident)\n",
        "sns.histplot(high_accident_citites, kde = True, log_scale = True,color='orange' )\n",
        "plt.title(\"Cities with Highest Accident Graph\", fontsize = 14, fontweight = \"bold\",color='orange')\n",
        "plt.show()"
      ]
    },
    {
      "cell_type": "code",
      "execution_count": 107,
      "metadata": {
        "execution": {
          "iopub.execute_input": "2025-02-04T05:34:46.179384Z",
          "iopub.status.busy": "2025-02-04T05:34:46.1791Z",
          "iopub.status.idle": "2025-02-04T05:34:47.032008Z",
          "shell.execute_reply": "2025-02-04T05:34:47.030938Z",
          "shell.execute_reply.started": "2025-02-04T05:34:46.17936Z"
        },
        "id": "09ZOANRSV0dy",
        "outputId": "513d81e8-7f88-4d5f-da8f-fccb6e8b0cb4",
        "colab": {
          "base_uri": "https://localhost:8080/",
          "height": 477
        }
      },
      "outputs": [
        {
          "output_type": "display_data",
          "data": {
            "text/plain": [
              "<Figure size 640x480 with 1 Axes>"
            ],
            "image/png": "[encoded data removed]"
          },
          "metadata": {}
        }
      ],
      "source": [
        "len(low_accident_cities)/len(cities_by_accident)\n",
        "sns.histplot(low_accident_cities, kde = True, log_scale = True,color='red' )\n",
        "plt.title(\"Cities with Lowest Accident Graph\", fontsize = 14, fontweight = \"bold\",color='red')\n",
        "plt.show()"
      ]
    },
    {
      "cell_type": "markdown",
      "metadata": {
        "id": "rMLQ4C7l3toS"
      },
      "source": [
        "### Accident by Date & Time"
      ]
    },
    {
      "cell_type": "code",
      "execution_count": 52,
      "metadata": {
        "execution": {
          "iopub.execute_input": "2025-02-04T05:34:47.033562Z",
          "iopub.status.busy": "2025-02-04T05:34:47.033165Z",
          "iopub.status.idle": "2025-02-04T05:34:47.040168Z",
          "shell.execute_reply": "2025-02-04T05:34:47.038985Z",
          "shell.execute_reply.started": "2025-02-04T05:34:47.033524Z"
        },
        "colab": {
          "base_uri": "https://localhost:8080/"
        },
        "id": "xFxQS5fKkCEm",
        "outputId": "7741cae1-4fe3-4494-ce0d-190694c153c7"
      },
      "outputs": [
        {
          "output_type": "execute_result",
          "data": {
            "text/plain": [
              "Index(['ID', 'Source', 'Severity', 'Start_Time', 'End_Time', 'Start_Lat',\n",
              "       'Start_Lng', 'End_Lat', 'End_Lng', 'Distance(mi)', 'Description',\n",
              "       'Street', 'City', 'County', 'State', 'Zipcode', 'Country', 'Timezone',\n",
              "       'Airport_Code', 'Weather_Timestamp', 'Temperature(F)', 'Wind_Chill(F)',\n",
              "       'Humidity(%)', 'Pressure(in)', 'Visibility(mi)', 'Wind_Direction',\n",
              "       'Wind_Speed(mph)', 'Precipitation(in)', 'Weather_Condition', 'Amenity',\n",
              "       'Bump', 'Crossing', 'Give_Way', 'Junction', 'No_Exit', 'Railway',\n",
              "       'Roundabout', 'Station', 'Stop', 'Traffic_Calming', 'Traffic_Signal',\n",
              "       'Turning_Loop', 'Sunrise_Sunset', 'Civil_Twilight', 'Nautical_Twilight',\n",
              "       'Astronomical_Twilight'],\n",
              "      dtype='object')"
            ]
          },
          "metadata": {},
          "execution_count": 52
        }
      ],
      "source": [
        "df.columns"
      ]
    },
    {
      "cell_type": "markdown",
      "metadata": {
        "id": "OAjqox5UkCEm"
      },
      "source": [
        "##### Fixing Time Stamp Format"
      ]
    },
    {
      "cell_type": "code",
      "execution_count": 53,
      "metadata": {
        "execution": {
          "iopub.execute_input": "2025-02-04T05:34:47.041872Z",
          "iopub.status.busy": "2025-02-04T05:34:47.041448Z",
          "iopub.status.idle": "2025-02-04T05:34:47.062632Z",
          "shell.execute_reply": "2025-02-04T05:34:47.061016Z",
          "shell.execute_reply.started": "2025-02-04T05:34:47.041802Z"
        },
        "id": "CEjD4meX0dJ-",
        "colab": {
          "base_uri": "https://localhost:8080/",
          "height": 35
        },
        "outputId": "5e2a2a74-638b-4987-f6d0-c63dd148c94a"
      },
      "outputs": [
        {
          "output_type": "execute_result",
          "data": {
            "text/plain": [
              "'2017-07-23 05:18:46.000000000'"
            ],
            "application/vnd.google.colaboratory.intrinsic+json": {
              "type": "string"
            }
          },
          "metadata": {},
          "execution_count": 53
        }
      ],
      "source": [
        "#df.iloc[3639776]['Start_Time']\n",
        "df.Start_Time[3639776]"
      ]
    },
    {
      "cell_type": "code",
      "execution_count": 54,
      "metadata": {
        "execution": {
          "iopub.execute_input": "2025-02-04T05:34:47.064033Z",
          "iopub.status.busy": "2025-02-04T05:34:47.063683Z",
          "iopub.status.idle": "2025-02-04T05:34:48.819044Z",
          "shell.execute_reply": "2025-02-04T05:34:48.817952Z",
          "shell.execute_reply.started": "2025-02-04T05:34:47.064004Z"
        },
        "colab": {
          "base_uri": "https://localhost:8080/",
          "height": 458
        },
        "id": "NlHx4hfFkCEv",
        "outputId": "8d405034-4b35-4a36-fd78-41daa7b4e54d"
      },
      "outputs": [
        {
          "output_type": "execute_result",
          "data": {
            "text/plain": [
              "0         2016-02-08 05:46:00\n",
              "1         2016-02-08 06:07:59\n",
              "2         2016-02-08 06:49:27\n",
              "3         2016-02-08 07:23:34\n",
              "4         2016-02-08 07:39:07\n",
              "                  ...        \n",
              "7728389   2019-08-23 18:03:25\n",
              "7728390   2019-08-23 19:11:30\n",
              "7728391   2019-08-23 19:00:21\n",
              "7728392   2019-08-23 19:00:21\n",
              "7728393   2019-08-23 18:52:06\n",
              "Name: Start_Time, Length: 7728394, dtype: datetime64[ns]"
            ],
            "text/html": [
              "<div>\n",
              "<style scoped>\n",
              "    .dataframe tbody tr th:only-of-type {\n",
              "        vertical-align: middle;\n",
              "    }\n",
              "\n",
              "    .dataframe tbody tr th {\n",
              "        vertical-align: top;\n",
              "    }\n",
              "\n",
              "    .dataframe thead th {\n",
              "        text-align: right;\n",
              "    }\n",
              "</style>\n",
              "<table border=\"1\" class=\"dataframe\">\n",
              "  <thead>\n",
              "    <tr style=\"text-align: right;\">\n",
              "      <th></th>\n",
              "      <th>Start_Time</th>\n",
              "    </tr>\n",
              "  </thead>\n",
              "  <tbody>\n",
              "    <tr>\n",
              "      <th>0</th>\n",
              "      <td>2016-02-08 05:46:00</td>\n",
              "    </tr>\n",
              "    <tr>\n",
              "      <th>1</th>\n",
              "      <td>2016-02-08 06:07:59</td>\n",
              "    </tr>\n",
              "    <tr>\n",
              "      <th>2</th>\n",
              "      <td>2016-02-08 06:49:27</td>\n",
              "    </tr>\n",
              "    <tr>\n",
              "      <th>3</th>\n",
              "      <td>2016-02-08 07:23:34</td>\n",
              "    </tr>\n",
              "    <tr>\n",
              "      <th>4</th>\n",
              "      <td>2016-02-08 07:39:07</td>\n",
              "    </tr>\n",
              "    <tr>\n",
              "      <th>...</th>\n",
              "      <td>...</td>\n",
              "    </tr>\n",
              "    <tr>\n",
              "      <th>7728389</th>\n",
              "      <td>2019-08-23 18:03:25</td>\n",
              "    </tr>\n",
              "    <tr>\n",
              "      <th>7728390</th>\n",
              "      <td>2019-08-23 19:11:30</td>\n",
              "    </tr>\n",
              "    <tr>\n",
              "      <th>7728391</th>\n",
              "      <td>2019-08-23 19:00:21</td>\n",
              "    </tr>\n",
              "    <tr>\n",
              "      <th>7728392</th>\n",
              "      <td>2019-08-23 19:00:21</td>\n",
              "    </tr>\n",
              "    <tr>\n",
              "      <th>7728393</th>\n",
              "      <td>2019-08-23 18:52:06</td>\n",
              "    </tr>\n",
              "  </tbody>\n",
              "</table>\n",
              "<p>7728394 rows × 1 columns</p>\n",
              "</div><br><label><b>dtype:</b> datetime64[ns]</label>"
            ]
          },
          "metadata": {},
          "execution_count": 54
        }
      ],
      "source": [
        "df['Start_Time'] = pd.to_datetime(df['Start_Time'], format='ISO8601')\n",
        "df['Start_Time']"
      ]
    },
    {
      "cell_type": "code",
      "execution_count": 109,
      "metadata": {
        "execution": {
          "iopub.execute_input": "2025-02-04T05:34:48.820309Z",
          "iopub.status.busy": "2025-02-04T05:34:48.820035Z",
          "iopub.status.idle": "2025-02-04T05:34:54.059082Z",
          "shell.execute_reply": "2025-02-04T05:34:54.057734Z",
          "shell.execute_reply.started": "2025-02-04T05:34:48.820287Z"
        },
        "colab": {
          "base_uri": "https://localhost:8080/",
          "height": 473
        },
        "id": "z3K-umGikCEv",
        "outputId": "da2c20c0-b3ed-4ca0-a2a2-29ee4989ca8d"
      },
      "outputs": [
        {
          "output_type": "display_data",
          "data": {
            "text/plain": [
              "<Figure size 640x480 with 1 Axes>"
            ],
            "image/png": "[encoded data removed]"
          },
          "metadata": {}
        }
      ],
      "source": [
        "#Converting Timestamp to hour\n",
        "#Accident Time Graph by Hour\n",
        "df['hour'] = df['Start_Time'].dt.hour\n",
        "sns.histplot(df['hour'], bins = 24, stat=\"density\",color='orange')\n",
        "plt.title(\"Accident Time Graph by Hour\", fontsize=14, fontweight='bold',color='orange')\n",
        "plt.show()"
      ]
    },
    {
      "cell_type": "code",
      "execution_count": 110,
      "metadata": {
        "execution": {
          "iopub.execute_input": "2025-02-04T05:34:54.061955Z",
          "iopub.status.busy": "2025-02-04T05:34:54.06144Z",
          "iopub.status.idle": "2025-02-04T05:34:59.433461Z",
          "shell.execute_reply": "2025-02-04T05:34:59.43239Z",
          "shell.execute_reply.started": "2025-02-04T05:34:54.06191Z"
        },
        "colab": {
          "base_uri": "https://localhost:8080/",
          "height": 472
        },
        "id": "-wtuqHmGkCEv",
        "outputId": "2f6e310a-a098-40c3-e4c3-84622ded48fc"
      },
      "outputs": [
        {
          "output_type": "display_data",
          "data": {
            "text/plain": [
              "<Figure size 640x480 with 1 Axes>"
            ],
            "image/png": "[encoded data removed]"
          },
          "metadata": {}
        }
      ],
      "source": [
        "#Accident Time Graph by Months\n",
        "\n",
        "df['month'] = df['Start_Time'].dt.month\n",
        "sns.histplot(df['month'], bins = 24, stat=\"density\",color='red')\n",
        "plt.title(\"Accident Time Graph by Months\", fontsize=12, fontweight='bold',color='red')\n",
        "plt.show()\n"
      ]
    },
    {
      "cell_type": "code",
      "execution_count": 113,
      "metadata": {
        "execution": {
          "iopub.execute_input": "2025-02-04T05:34:59.434958Z",
          "iopub.status.busy": "2025-02-04T05:34:59.434564Z",
          "iopub.status.idle": "2025-02-04T05:35:00.835305Z",
          "shell.execute_reply": "2025-02-04T05:35:00.834127Z",
          "shell.execute_reply.started": "2025-02-04T05:34:59.434928Z"
        },
        "colab": {
          "base_uri": "https://localhost:8080/",
          "height": 489
        },
        "id": "v5NuqKS7kCEw",
        "outputId": "60813e05-7d55-4624-fd26-3108665a6551"
      },
      "outputs": [
        {
          "output_type": "execute_result",
          "data": {
            "text/plain": [
              "<Axes: title={'center': 'Accident Time Graph by Months of Selected Year - 2023'}, xlabel='Start_Time', ylabel='Density'>"
            ]
          },
          "metadata": {},
          "execution_count": 113
        },
        {
          "output_type": "display_data",
          "data": {
            "text/plain": [
              "<Figure size 640x480 with 1 Axes>"
            ],
            "image/png": "[encoded data removed]"
          },
          "metadata": {}
        }
      ],
      "source": [
        "#Accident Time Graph by Months of Selected Year\n",
        "df_2023 = df[df.Start_Time.dt.year == 2018]\n",
        "plt.title(\"Accident Time Graph by Months of Selected Year - 2023\", fontsize=12, fontweight='bold',color='orange')\n",
        "sns.histplot(df_2023.Start_Time.dt.month, bins = 12, stat=\"density\",color='orange')\n",
        "\n"
      ]
    },
    {
      "cell_type": "code",
      "execution_count": 116,
      "metadata": {
        "execution": {
          "iopub.execute_input": "2025-02-04T05:35:00.836745Z",
          "iopub.status.busy": "2025-02-04T05:35:00.836372Z",
          "iopub.status.idle": "2025-02-04T05:35:06.301101Z",
          "shell.execute_reply": "2025-02-04T05:35:06.300023Z",
          "shell.execute_reply.started": "2025-02-04T05:35:00.836709Z"
        },
        "colab": {
          "base_uri": "https://localhost:8080/",
          "height": 472
        },
        "id": "0g_-gInKkCEw",
        "outputId": "68b069ea-9a7c-4651-c1c6-ef362c33d7bf"
      },
      "outputs": [
        {
          "output_type": "display_data",
          "data": {
            "text/plain": [
              "<Figure size 640x480 with 1 Axes>"
            ],
            "image/png": "[encoded data removed]"
          },
          "metadata": {}
        }
      ],
      "source": [
        "#Converting Timestamp to hour\n",
        "#Accident Time Graph by week day\n",
        "df['hour'] = df['Start_Time'].dt.dayofweek\n",
        "sns.histplot(df['hour'], bins = 7, stat=\"density\",color='red')\n",
        "plt.title(\"Accident Time Graph by week day\", fontsize=12, fontweight='bold',color='red')\n",
        "plt.show()"
      ]
    },
    {
      "cell_type": "code",
      "execution_count": 118,
      "metadata": {
        "execution": {
          "iopub.execute_input": "2025-02-04T05:35:06.302415Z",
          "iopub.status.busy": "2025-02-04T05:35:06.302131Z",
          "iopub.status.idle": "2025-02-04T05:35:08.026222Z",
          "shell.execute_reply": "2025-02-04T05:35:08.025012Z",
          "shell.execute_reply.started": "2025-02-04T05:35:06.30239Z"
        },
        "colab": {
          "base_uri": "https://localhost:8080/",
          "height": 489
        },
        "id": "gVdLWyMDkCEw",
        "outputId": "882cbc1b-ae08-4ba1-d70e-2a244de60ebf"
      },
      "outputs": [
        {
          "output_type": "execute_result",
          "data": {
            "text/plain": [
              "Text(0.5, 1.0, 'Checking stats during 2020 (Lockdown)')"
            ]
          },
          "metadata": {},
          "execution_count": 118
        },
        {
          "output_type": "display_data",
          "data": {
            "text/plain": [
              "<Figure size 640x480 with 1 Axes>"
            ],
            "image/png": "[encoded data removed]"
          },
          "metadata": {}
        }
      ],
      "source": [
        "#Checking stats during 2020 (Lockdown)\n",
        "df_2020 = df[df.Start_Time.dt.year == 2020]\n",
        "sns.histplot(df_2020.Start_Time.dt.month, bins = 12, stat=\"density\",color='orange')\n",
        "plt.title(\"Checking stats during 2020 (Lockdown)\", fontsize=12, fontweight='bold',color='orange')"
      ]
    },
    {
      "cell_type": "code",
      "execution_count": 60,
      "metadata": {
        "execution": {
          "iopub.execute_input": "2025-02-04T05:35:08.027359Z",
          "iopub.status.busy": "2025-02-04T05:35:08.027082Z",
          "iopub.status.idle": "2025-02-04T05:35:08.73593Z",
          "shell.execute_reply": "2025-02-04T05:35:08.734866Z",
          "shell.execute_reply.started": "2025-02-04T05:35:08.027334Z"
        },
        "colab": {
          "base_uri": "https://localhost:8080/",
          "height": 423
        },
        "id": "dwav4qsGkCEx",
        "outputId": "7e218ded-118d-4c69-daf8-fc1fb37124f9"
      },
      "outputs": [
        {
          "output_type": "execute_result",
          "data": {
            "text/plain": [
              "<Axes: ylabel='count'>"
            ]
          },
          "metadata": {},
          "execution_count": 60
        },
        {
          "output_type": "display_data",
          "data": {
            "text/plain": [
              "<Figure size 640x480 with 1 Axes>"
            ],
            "image/png": "[encoded data removed]"
          },
          "metadata": {}
        }
      ],
      "source": [
        "df.Source.value_counts().plot(kind = 'pie')"
      ]
    },
    {
      "cell_type": "markdown",
      "metadata": {
        "id": "PfvXoBNfkCEx"
      },
      "source": [
        "### Accident or Accident by Temprature"
      ]
    },
    {
      "cell_type": "code",
      "execution_count": 61,
      "metadata": {
        "execution": {
          "iopub.execute_input": "2025-02-04T05:35:08.737613Z",
          "iopub.status.busy": "2025-02-04T05:35:08.737219Z",
          "iopub.status.idle": "2025-02-04T05:35:08.831564Z",
          "shell.execute_reply": "2025-02-04T05:35:08.830689Z",
          "shell.execute_reply.started": "2025-02-04T05:35:08.737578Z"
        },
        "colab": {
          "base_uri": "https://localhost:8080/",
          "height": 458
        },
        "id": "-KLqJVAMkCEx",
        "outputId": "ec177c1d-2485-4590-d2ef-11a3d1e5385a"
      },
      "outputs": [
        {
          "output_type": "execute_result",
          "data": {
            "text/plain": [
              "0           2.722222\n",
              "1           3.277778\n",
              "2           2.222222\n",
              "3           1.722222\n",
              "4           2.222222\n",
              "             ...    \n",
              "7728389    30.000000\n",
              "7728390    21.111111\n",
              "7728391    22.777778\n",
              "7728392    21.666667\n",
              "7728393    26.111111\n",
              "Name: Temperature_C, Length: 7728394, dtype: float64"
            ],
            "text/html": [
              "<div>\n",
              "<style scoped>\n",
              "    .dataframe tbody tr th:only-of-type {\n",
              "        vertical-align: middle;\n",
              "    }\n",
              "\n",
              "    .dataframe tbody tr th {\n",
              "        vertical-align: top;\n",
              "    }\n",
              "\n",
              "    .dataframe thead th {\n",
              "        text-align: right;\n",
              "    }\n",
              "</style>\n",
              "<table border=\"1\" class=\"dataframe\">\n",
              "  <thead>\n",
              "    <tr style=\"text-align: right;\">\n",
              "      <th></th>\n",
              "      <th>Temperature_C</th>\n",
              "    </tr>\n",
              "  </thead>\n",
              "  <tbody>\n",
              "    <tr>\n",
              "      <th>0</th>\n",
              "      <td>2.722222</td>\n",
              "    </tr>\n",
              "    <tr>\n",
              "      <th>1</th>\n",
              "      <td>3.277778</td>\n",
              "    </tr>\n",
              "    <tr>\n",
              "      <th>2</th>\n",
              "      <td>2.222222</td>\n",
              "    </tr>\n",
              "    <tr>\n",
              "      <th>3</th>\n",
              "      <td>1.722222</td>\n",
              "    </tr>\n",
              "    <tr>\n",
              "      <th>4</th>\n",
              "      <td>2.222222</td>\n",
              "    </tr>\n",
              "    <tr>\n",
              "      <th>...</th>\n",
              "      <td>...</td>\n",
              "    </tr>\n",
              "    <tr>\n",
              "      <th>7728389</th>\n",
              "      <td>30.000000</td>\n",
              "    </tr>\n",
              "    <tr>\n",
              "      <th>7728390</th>\n",
              "      <td>21.111111</td>\n",
              "    </tr>\n",
              "    <tr>\n",
              "      <th>7728391</th>\n",
              "      <td>22.777778</td>\n",
              "    </tr>\n",
              "    <tr>\n",
              "      <th>7728392</th>\n",
              "      <td>21.666667</td>\n",
              "    </tr>\n",
              "    <tr>\n",
              "      <th>7728393</th>\n",
              "      <td>26.111111</td>\n",
              "    </tr>\n",
              "  </tbody>\n",
              "</table>\n",
              "<p>7728394 rows × 1 columns</p>\n",
              "</div><br><label><b>dtype:</b> float64</label>"
            ]
          },
          "metadata": {},
          "execution_count": 61
        }
      ],
      "source": [
        "#Converting F to C\n",
        "df[\"Temperature(F)\"] = (df[\"Temperature(F)\"] - 32) * 5/9\n",
        "\n",
        "df.rename(columns={\"Temperature(F)\": \"Temperature_C\"}, inplace=True)\n",
        "df['Temperature_C']\n",
        "\n"
      ]
    },
    {
      "cell_type": "code",
      "execution_count": 120,
      "metadata": {
        "execution": {
          "iopub.execute_input": "2025-02-04T05:35:08.833134Z",
          "iopub.status.busy": "2025-02-04T05:35:08.832691Z",
          "iopub.status.idle": "2025-02-04T05:35:44.63424Z",
          "shell.execute_reply": "2025-02-04T05:35:44.633136Z",
          "shell.execute_reply.started": "2025-02-04T05:35:08.833096Z"
        },
        "colab": {
          "base_uri": "https://localhost:8080/",
          "height": 564
        },
        "id": "2Ze7B0gvkCEy",
        "outputId": "14049002-5ae4-4549-c51f-5c22bab7ad66"
      },
      "outputs": [
        {
          "output_type": "display_data",
          "data": {
            "text/plain": [
              "<Figure size 1000x600 with 1 Axes>"
            ],
            "image/png": "[encoded data removed]"
          },
          "metadata": {}
        }
      ],
      "source": [
        "#plotting chart\n",
        "\n",
        "plt.figure(figsize=(10, 6))\n",
        "sns.histplot(df['Temperature_C'], bins=30, kde=True, color=\"red\")\n",
        "plt.title(\"Temperature Distribution During Accidents\", color=\"red\")\n",
        "plt.xlabel(\"Temperature (°C)\")\n",
        "plt.ylabel(\"Accident Count\")\n",
        "plt.show()"
      ]
    },
    {
      "cell_type": "code",
      "execution_count": 121,
      "metadata": {
        "execution": {
          "iopub.execute_input": "2025-02-04T05:35:44.635641Z",
          "iopub.status.busy": "2025-02-04T05:35:44.635337Z",
          "iopub.status.idle": "2025-02-04T05:35:45.168926Z",
          "shell.execute_reply": "2025-02-04T05:35:45.167742Z",
          "shell.execute_reply.started": "2025-02-04T05:35:44.635608Z"
        },
        "colab": {
          "base_uri": "https://localhost:8080/",
          "height": 440
        },
        "id": "M0sfjI7KkCEy",
        "outputId": "da114dda-e115-4fb2-e89f-da962a557d07"
      },
      "outputs": [
        {
          "output_type": "stream",
          "name": "stderr",
          "text": [
            "<ipython-input-121-4c60136c4026>:5: FutureWarning: \n",
            "\n",
            "Passing `palette` without assigning `hue` is deprecated and will be removed in v0.14.0. Assign the `x` variable to `hue` and set `legend=False` for the same effect.\n",
            "\n",
            "  sns.barplot(x=accident_counts.index, y=accident_counts.values, palette=\"coolwarm\")\n"
          ]
        },
        {
          "output_type": "display_data",
          "data": {
            "text/plain": [
              "<Figure size 600x300 with 1 Axes>"
            ],
            "image/png": "[encoded data removed]"
          },
          "metadata": {}
        }
      ],
      "source": [
        "df[\"Temp_Category\"] = pd.cut(df[\"Temperature_C\"], bins=[-10, 0, 10, 20, 30, 40], labels=[\"<0°C\", \"0-10°C\", \"10-20°C\", \"20-30°C\", \"30°C+\"])\n",
        "accident_counts = df[\"Temp_Category\"].value_counts().sort_index()\n",
        "\n",
        "plt.figure(figsize=(6, 3))\n",
        "sns.barplot(x=accident_counts.index, y=accident_counts.values, palette=\"coolwarm\")\n",
        "plt.title(\"Accident Count by Temperature Range\")\n",
        "plt.xlabel(\"Temperature Range\")\n",
        "plt.ylabel(\"Number of Accidents\")\n",
        "plt.show()"
      ]
    },
    {
      "cell_type": "code",
      "execution_count": 64,
      "metadata": {
        "execution": {
          "iopub.execute_input": "2025-02-04T05:35:45.170416Z",
          "iopub.status.busy": "2025-02-04T05:35:45.170104Z",
          "iopub.status.idle": "2025-02-04T05:35:45.705659Z",
          "shell.execute_reply": "2025-02-04T05:35:45.70436Z",
          "shell.execute_reply.started": "2025-02-04T05:35:45.17039Z"
        },
        "colab": {
          "base_uri": "https://localhost:8080/"
        },
        "id": "TSMDgVXBkCEz",
        "outputId": "925754d2-ade9-47e3-ef69-a8ab2d56c28b"
      },
      "outputs": [
        {
          "output_type": "stream",
          "name": "stdout",
          "text": [
            "Most accidents occur at 25.0°C with 170984.0 accidents.\n"
          ]
        }
      ],
      "source": [
        "#Aggregate\n",
        "accident_counts = df.groupby(\"Temperature_C\")[\"City\"].count().reset_index()\n",
        "accident_counts.columns = [\"Temperature_C\", \"Accident_Count\"]\n",
        "most_accidents_temp = accident_counts.loc[accident_counts[\"Accident_Count\"].idxmax()]\n",
        "\n",
        "print(f\"Most accidents occur at {most_accidents_temp['Temperature_C']}°C with {most_accidents_temp['Accident_Count']} accidents.\")\n"
      ]
    },
    {
      "cell_type": "markdown",
      "metadata": {
        "id": "D_A8j2v1kCE0"
      },
      "source": [
        "### Accident by State"
      ]
    },
    {
      "cell_type": "code",
      "execution_count": 65,
      "metadata": {
        "execution": {
          "iopub.execute_input": "2025-02-04T05:35:45.706897Z",
          "iopub.status.busy": "2025-02-04T05:35:45.706586Z",
          "iopub.status.idle": "2025-02-04T05:35:45.71455Z",
          "shell.execute_reply": "2025-02-04T05:35:45.712993Z",
          "shell.execute_reply.started": "2025-02-04T05:35:45.70687Z"
        },
        "colab": {
          "base_uri": "https://localhost:8080/"
        },
        "id": "Xo2bIMdekCE0",
        "outputId": "e1b695f6-b03c-48dc-f52d-7b0058d5a1f3"
      },
      "outputs": [
        {
          "output_type": "execute_result",
          "data": {
            "text/plain": [
              "Index(['ID', 'Source', 'Severity', 'Start_Time', 'End_Time', 'Start_Lat',\n",
              "       'Start_Lng', 'End_Lat', 'End_Lng', 'Distance(mi)', 'Description',\n",
              "       'Street', 'City', 'County', 'State', 'Zipcode', 'Country', 'Timezone',\n",
              "       'Airport_Code', 'Weather_Timestamp', 'Temperature_C', 'Wind_Chill(F)',\n",
              "       'Humidity(%)', 'Pressure(in)', 'Visibility(mi)', 'Wind_Direction',\n",
              "       'Wind_Speed(mph)', 'Precipitation(in)', 'Weather_Condition', 'Amenity',\n",
              "       'Bump', 'Crossing', 'Give_Way', 'Junction', 'No_Exit', 'Railway',\n",
              "       'Roundabout', 'Station', 'Stop', 'Traffic_Calming', 'Traffic_Signal',\n",
              "       'Turning_Loop', 'Sunrise_Sunset', 'Civil_Twilight', 'Nautical_Twilight',\n",
              "       'Astronomical_Twilight', 'hour', 'month', 'Temp_Category'],\n",
              "      dtype='object')"
            ]
          },
          "metadata": {},
          "execution_count": 65
        }
      ],
      "source": [
        "df.columns"
      ]
    },
    {
      "cell_type": "code",
      "execution_count": 66,
      "metadata": {
        "execution": {
          "iopub.execute_input": "2025-02-04T05:35:45.716205Z",
          "iopub.status.busy": "2025-02-04T05:35:45.715742Z",
          "iopub.status.idle": "2025-02-04T05:35:46.152501Z",
          "shell.execute_reply": "2025-02-04T05:35:46.151388Z",
          "shell.execute_reply.started": "2025-02-04T05:35:45.716177Z"
        },
        "colab": {
          "base_uri": "https://localhost:8080/"
        },
        "id": "eIt7BqHrkCE1",
        "outputId": "a434fa43-1c49-4eb7-930a-7ef4de6dba41"
      },
      "outputs": [
        {
          "output_type": "execute_result",
          "data": {
            "text/plain": [
              "49"
            ]
          },
          "metadata": {},
          "execution_count": 66
        }
      ],
      "source": [
        "#Total USA states in this dataset\n",
        "df.State.nunique()"
      ]
    },
    {
      "cell_type": "code",
      "execution_count": 67,
      "metadata": {
        "execution": {
          "iopub.execute_input": "2025-02-04T05:36:26.992032Z",
          "iopub.status.busy": "2025-02-04T05:36:26.991636Z",
          "iopub.status.idle": "2025-02-04T05:36:26.999238Z",
          "shell.execute_reply": "2025-02-04T05:36:26.998211Z",
          "shell.execute_reply.started": "2025-02-04T05:36:26.992001Z"
        },
        "colab": {
          "base_uri": "https://localhost:8080/",
          "height": 241
        },
        "id": "vfNuUdqgkCE1",
        "outputId": "ff7adfc2-26a1-4a48-93b9-de6c7a367ff7"
      },
      "outputs": [
        {
          "output_type": "execute_result",
          "data": {
            "text/plain": [
              "0    OH\n",
              "1    OH\n",
              "2    OH\n",
              "3    OH\n",
              "4    OH\n",
              "Name: State, dtype: object"
            ],
            "text/html": [
              "<div>\n",
              "<style scoped>\n",
              "    .dataframe tbody tr th:only-of-type {\n",
              "        vertical-align: middle;\n",
              "    }\n",
              "\n",
              "    .dataframe tbody tr th {\n",
              "        vertical-align: top;\n",
              "    }\n",
              "\n",
              "    .dataframe thead th {\n",
              "        text-align: right;\n",
              "    }\n",
              "</style>\n",
              "<table border=\"1\" class=\"dataframe\">\n",
              "  <thead>\n",
              "    <tr style=\"text-align: right;\">\n",
              "      <th></th>\n",
              "      <th>State</th>\n",
              "    </tr>\n",
              "  </thead>\n",
              "  <tbody>\n",
              "    <tr>\n",
              "      <th>0</th>\n",
              "      <td>OH</td>\n",
              "    </tr>\n",
              "    <tr>\n",
              "      <th>1</th>\n",
              "      <td>OH</td>\n",
              "    </tr>\n",
              "    <tr>\n",
              "      <th>2</th>\n",
              "      <td>OH</td>\n",
              "    </tr>\n",
              "    <tr>\n",
              "      <th>3</th>\n",
              "      <td>OH</td>\n",
              "    </tr>\n",
              "    <tr>\n",
              "      <th>4</th>\n",
              "      <td>OH</td>\n",
              "    </tr>\n",
              "  </tbody>\n",
              "</table>\n",
              "</div><br><label><b>dtype:</b> object</label>"
            ]
          },
          "metadata": {},
          "execution_count": 67
        }
      ],
      "source": [
        "df[\"State\"].head(5)"
      ]
    },
    {
      "cell_type": "code",
      "execution_count": 68,
      "metadata": {
        "execution": {
          "iopub.execute_input": "2025-02-04T05:36:06.061115Z",
          "iopub.status.busy": "2025-02-04T05:36:06.06069Z",
          "iopub.status.idle": "2025-02-04T05:36:06.952888Z",
          "shell.execute_reply": "2025-02-04T05:36:06.951694Z",
          "shell.execute_reply.started": "2025-02-04T05:36:06.061084Z"
        },
        "colab": {
          "base_uri": "https://localhost:8080/",
          "height": 465
        },
        "id": "KxRg2gE7kCE1",
        "outputId": "7874847a-1d7d-45f1-e67a-1e30dfa4bb59"
      },
      "outputs": [
        {
          "output_type": "execute_result",
          "data": {
            "text/plain": [
              "<Axes: ylabel='State'>"
            ]
          },
          "metadata": {},
          "execution_count": 68
        },
        {
          "output_type": "display_data",
          "data": {
            "text/plain": [
              "<Figure size 640x480 with 1 Axes>"
            ],
            "image/png": "[encoded data removed]"
          },
          "metadata": {}
        }
      ],
      "source": [
        "accident_by_state = df[\"State\"].value_counts(ascending = False)\n",
        "accident_by_state.head(10).plot(kind = 'barh')"
      ]
    },
    {
      "cell_type": "markdown",
      "metadata": {
        "id": "rAnE0R7bvMgS"
      },
      "source": [
        "## Summary and Conclusion"
      ]
    },
    {
      "cell_type": "markdown",
      "metadata": {
        "id": "QI58a76HkCE3"
      },
      "source": [
        "1. Less than 4% cities have more than 2000 accidents\n",
        "2. 1023 cities have only one accident recorded\n",
        "3. A high percentages of accidents occured between 7AM to 10AM and 3PM to 8PM. Looks like accidents happens most at evening\n",
        "4. New York City has total 21699 accidents. Compare to Population it has very low recorded accidents\n",
        "5. There are also missing data for year 2023, 2016 and 2020\n",
        "6. New York City has the highest population but ranks 45th place in Accidentes\n",
        "7. New York City and New York State"
      ]
    },
    {
      "cell_type": "code",
      "execution_count": 69,
      "metadata": {
        "id": "6HoKDP_ckCE4"
      },
      "outputs": [],
      "source": []
    }
  ],
  "metadata": {
    "accelerator": "TPU",
    "colab": {
      "gpuType": "V28",
      "provenance": []
    },
    "kaggle": {
      "accelerator": "none",
      "dataSources": [
        {
          "datasetId": 199387,
          "sourceId": 5793796,
          "sourceType": "datasetVersion"
        }
      ],
      "isGpuEnabled": false,
      "isInternetEnabled": false,
      "language": "python",
      "sourceType": "notebook"
    },
    "kernelspec": {
      "display_name": "Python 3 (ipykernel)",
      "language": "python",
      "name": "python3"
    },
    "language_info": {
      "codemirror_mode": {
        "name": "ipython",
        "version": 3
      },
      "file_extension": ".py",
      "mimetype": "text/x-python",
      "name": "python",
      "nbconvert_exporter": "python",
      "pygments_lexer": "ipython3",
      "version": "3.11.4"
    }
  },
  "nbformat": 4,
  "nbformat_minor": 0
}